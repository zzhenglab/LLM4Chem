{
  "cells": [
    {
      "cell_type": "markdown",
      "metadata": {
        "id": "HBe1WlpV0qXc"
      },
      "source": [
        " ### **Chapter 4 Large Language Models in Chemistry**\n",
        "Step 1: Prepare Your Dataset"
      ]
    },
    {
      "cell_type": "code",
      "execution_count": null,
      "metadata": {
        "colab": {
          "base_uri": "https://localhost:8080/"
        },
        "id": "dYK-0PDF0ltj",
        "outputId": "5acccc68-d888-4e25-b183-b8a5a262e76b"
      },
      "outputs": [
        {
          "name": "stdout",
          "output_type": "stream",
          "text": [
            "Wrote chat-format file!\n",
            "{\"messages\": [{\"role\": \"system\", \"content\": \"You are a chemistry tutor.\"}, {\"role\": \"user\", \"content\": \"What is the formula of acetone?\"}, {\"role\": \"assistant\", \"content\": \"C3H6O\"}]}\n",
            "{\"messages\": [{\"role\": \"system\", \"content\": \"You are a chemistry tutor.\"}, {\"role\": \"user\", \"content\": \"How many 1H NMR signals would benzene have?\"}, {\"role\": \"assistant\", \"content\": \"1 (all hydrogens are equivalent)\"}]}\n",
            "{\"messages\": [{\"role\": \"system\", \"content\": \"You are a chemistry tutor.\"}, {\"role\": \"user\", \"content\": \"What functional group is present in ethanol?\"}, {\"role\": \"assistant\", \"content\": \"A hydroxyl (-OH) group\"}]}\n",
            "{\"messages\": [{\"role\": \"system\", \"content\": \"You are a chemistry tutor.\"}, {\"role\": \"user\", \"content\": \"What is the pKa of acetic acid approximately?\"}, {\"role\": \"assistant\", \"content\": \"Around 4.76\"}]}\n",
            "{\"messages\": [{\"role\": \"system\", \"content\": \"You are a chemistry tutor.\"}, {\"role\": \"user\", \"content\": \"What is the molecular geometry of methane?\"}, {\"role\": \"assistant\", \"content\": \"Tetrahedral\"}]}\n"
          ]
        }
      ],
      "source": [
        "import json\n",
        "data = [\n",
        "    {\n",
        "        \"messages\": [\n",
        "            {\"role\": \"system\", \"content\": \"You are a chemistry tutor.\"},\n",
        "            {\"role\": \"user\", \"content\": \"What is the formula of acetone?\"},\n",
        "            {\"role\": \"assistant\", \"content\": \"C3H6O\"}\n",
        "        ]\n",
        "    },\n",
        "    {\n",
        "        \"messages\": [\n",
        "            {\"role\": \"system\", \"content\": \"You are a chemistry tutor.\"},\n",
        "            {\"role\": \"user\", \"content\": \"How many 1H NMR signals would benzene have?\"},\n",
        "            {\"role\": \"assistant\", \"content\": \"1 (all hydrogens are equivalent)\"}\n",
        "        ]\n",
        "    },\n",
        "    {\n",
        "        \"messages\": [\n",
        "            {\"role\": \"system\", \"content\": \"You are a chemistry tutor.\"},\n",
        "            {\"role\": \"user\", \"content\": \"What functional group is present in ethanol?\"},\n",
        "            {\"role\": \"assistant\", \"content\": \"A hydroxyl (-OH) group\"}\n",
        "        ]\n",
        "    },\n",
        "    {\n",
        "        \"messages\": [\n",
        "            {\"role\": \"system\", \"content\": \"You are a chemistry tutor.\"},\n",
        "            {\"role\": \"user\", \"content\": \"What is the pKa of acetic acid approximately?\"},\n",
        "            {\"role\": \"assistant\", \"content\": \"Around 4.76\"}\n",
        "        ]\n",
        "    },\n",
        "    {\n",
        "        \"messages\": [\n",
        "            {\"role\": \"system\", \"content\": \"You are a chemistry tutor.\"},\n",
        "            {\"role\": \"user\", \"content\": \"What is the molecular geometry of methane?\"},\n",
        "            {\"role\": \"assistant\", \"content\": \"Tetrahedral\"}\n",
        "        ]\n",
        "    },\n",
        "    {\n",
        "        \"messages\": [\n",
        "            {\"role\": \"system\", \"content\": \"You are a chemistry tutor.\"},\n",
        "            {\"role\": \"user\", \"content\": \"What hybridization does the carbon atom in ethyne (C2H2) have?\"},\n",
        "            {\"role\": \"assistant\", \"content\": \"sp hybridization\"}\n",
        "        ]\n",
        "    },\n",
        "    {\n",
        "        \"messages\": [\n",
        "            {\"role\": \"system\", \"content\": \"You are a chemistry tutor.\"},\n",
        "            {\"role\": \"user\", \"content\": \"Which reagent is commonly used to test for unsaturation (double bonds) in hydrocarbons?\"},\n",
        "            {\"role\": \"assistant\", \"content\": \"Bromine water (Br2 in CCl4)\"}\n",
        "        ]\n",
        "    },\n",
        "    {\n",
        "        \"messages\": [\n",
        "            {\"role\": \"system\", \"content\": \"You are a chemistry tutor.\"},\n",
        "            {\"role\": \"user\", \"content\": \"What type of bond is formed between Na+ and Cl- in NaCl?\"},\n",
        "            {\"role\": \"assistant\", \"content\": \"An ionic bond\"}\n",
        "        ]\n",
        "    },\n",
        "    {\n",
        "        \"messages\": [\n",
        "            {\"role\": \"system\", \"content\": \"You are a chemistry tutor.\"},\n",
        "            {\"role\": \"user\", \"content\": \"What is the IUPAC name of CH3-CH2-CH2-OH?\"},\n",
        "            {\"role\": \"assistant\", \"content\": \"Propan-1-ol\"}\n",
        "        ]\n",
        "    },\n",
        "    {\n",
        "        \"messages\": [\n",
        "            {\"role\": \"system\", \"content\": \"You are a chemistry tutor.\"},\n",
        "            {\"role\": \"user\", \"content\": \"Which gas is released when hydrochloric acid reacts with sodium carbonate?\"},\n",
        "            {\"role\": \"assistant\", \"content\": \"Carbon dioxide (CO2)\"}\n",
        "        ]\n",
        "    }\n",
        "]\n",
        "\n",
        "\n",
        "\n",
        "with open(\"chem_tuning_data_chat.jsonl\", \"w\", encoding=\"utf-8\") as f:\n",
        "    for row in data:\n",
        "        f.write(json.dumps(row, ensure_ascii=False) + \"\\n\")\n",
        "\n",
        "print(\"Wrote chat-format file!\")\n",
        "!head -n 5 chem_tuning_data_chat.jsonl\n"
      ]
    },
    {
      "cell_type": "markdown",
      "metadata": {
        "id": "7OSI1Ldu1T7n"
      },
      "source": [
        "Step 2: Upload and Validate the Dataset.\n",
        "\n"
      ]
    },
    {
      "cell_type": "code",
      "execution_count": null,
      "metadata": {
        "id": "A7o6W1dS1YqA"
      },
      "outputs": [],
      "source": [
        "#This command has been depreciated\n",
        "#!openai tools fine_tunes.prepare_data -f chem_tuning_data_chat.jsonl\n"
      ]
    },
    {
      "cell_type": "code",
      "execution_count": null,
      "metadata": {
        "colab": {
          "base_uri": "https://localhost:8080/"
        },
        "id": "A3soYt4u1ibQ",
        "outputId": "7d2b75a4-2729-4dea-b063-d325e5d59b12"
      },
      "outputs": [
        {
          "name": "stdout",
          "output_type": "stream",
          "text": [
            "Upload progress: 100% 2.16k/2.16k [00:00<00:00, 10.3kit/s]\n",
            "{\n",
            "  \"id\": \"file-3J2HiTy4s3s33bJeEycnzg\",\n",
            "  \"bytes\": 2163,\n",
            "  \"created_at\": 1757227708,\n",
            "  \"filename\": \"chem_tuning_data_chat.jsonl\",\n",
            "  \"object\": \"file\",\n",
            "  \"purpose\": \"fine-tune\",\n",
            "  \"status\": \"processed\",\n",
            "  \"expires_at\": null,\n",
            "  \"status_details\": null\n",
            "}\n"
          ]
        }
      ],
      "source": [
        "!openai api files.create -f chem_tuning_data_chat.jsonl -p fine-tune"
      ]
    },
    {
      "cell_type": "markdown",
      "metadata": {
        "id": "a12HNJlH1l-9"
      },
      "source": [
        "Step 3: Initiate the Fine-Tuning Job"
      ]
    },
    {
      "cell_type": "code",
      "execution_count": null,
      "metadata": {
        "colab": {
          "base_uri": "https://localhost:8080/"
        },
        "id": "OJpcSNP81pzj",
        "outputId": "714bd07e-4d8f-4ca2-f42b-9ab5c4220137"
      },
      "outputs": [
        {
          "name": "stdout",
          "output_type": "stream",
          "text": [
            "{\n",
            "  \"id\": \"ftjob-Q3pd7gxY8x8Ah39b4AZylNMO\",\n",
            "  \"created_at\": 1757227755,\n",
            "  \"error\": {\n",
            "    \"code\": null,\n",
            "    \"message\": null,\n",
            "    \"param\": null\n",
            "  },\n",
            "  \"fine_tuned_model\": null,\n",
            "  \"finished_at\": null,\n",
            "  \"hyperparameters\": {\n",
            "    \"batch_size\": \"auto\",\n",
            "    \"learning_rate_multiplier\": \"auto\",\n",
            "    \"n_epochs\": \"auto\"\n",
            "  },\n",
            "  \"model\": \"gpt-3.5-turbo-0125\",\n",
            "  \"object\": \"fine_tuning.job\",\n",
            "  \"organization_id\": \"org-v7W9VAvK63e9Xn7KMv5CwcFv\",\n",
            "  \"result_files\": [],\n",
            "  \"seed\": 1507819671,\n",
            "  \"status\": \"validating_files\",\n",
            "  \"trained_tokens\": null,\n",
            "  \"training_file\": \"file-3J2HiTy4s3s33bJeEycnzg\",\n",
            "  \"validation_file\": null,\n",
            "  \"estimated_finish\": null,\n",
            "  \"integrations\": [],\n",
            "  \"metadata\": null,\n",
            "  \"method\": {\n",
            "    \"type\": \"supervised\",\n",
            "    \"dpo\": null,\n",
            "    \"reinforcement\": null,\n",
            "    \"supervised\": {\n",
            "      \"hyperparameters\": {\n",
            "        \"batch_size\": \"auto\",\n",
            "        \"learning_rate_multiplier\": \"auto\",\n",
            "        \"n_epochs\": \"auto\"\n",
            "      }\n",
            "    }\n",
            "  },\n",
            "  \"user_provided_suffix\": null,\n",
            "  \"usage_metrics\": null,\n",
            "  \"shared_with_openai\": false,\n",
            "  \"eval_id\": null\n",
            "}\n"
          ]
        }
      ],
      "source": [
        "!openai api fine_tuning.jobs.create -F \"file-3J2HiTy4s3s33bJeEycnzg\" -m gpt-3.5-turbo"
      ]
    },
    {
      "cell_type": "markdown",
      "metadata": {
        "id": "rsacYNyO1x_k"
      },
      "source": [
        "Step 4: Monitor the Fine-Tune and Wait."
      ]
    },
    {
      "cell_type": "code",
      "execution_count": null,
      "metadata": {
        "colab": {
          "base_uri": "https://localhost:8080/"
        },
        "id": "xXPspxnG10G9",
        "outputId": "d1e29214-449c-4293-e83e-b48e5be4b072"
      },
      "outputs": [
        {
          "name": "stdout",
          "output_type": "stream",
          "text": [
            "{\n",
            "  \"data\": [\n",
            "    {\n",
            "      \"id\": \"ftjob-Q3pd7gxY8x8Ah39b4AZylNMO\",\n",
            "      \"created_at\": 1757227755,\n",
            "      \"error\": {\n",
            "        \"code\": null,\n",
            "        \"message\": null,\n",
            "        \"param\": null\n",
            "      },\n",
            "      \"fine_tuned_model\": \"ft:gpt-3.5-turbo-0125:personal::CD3b7kvJ\",\n",
            "      \"finished_at\": 1757228127,\n",
            "      \"hyperparameters\": {\n",
            "        \"batch_size\": 1,\n",
            "        \"learning_rate_multiplier\": 2.0,\n",
            "        \"n_epochs\": 10\n",
            "      },\n",
            "      \"model\": \"gpt-3.5-turbo-0125\",\n",
            "      \"object\": \"fine_tuning.job\",\n",
            "      \"organization_id\": \"org-v7W9VAvK63e9Xn7KMv5CwcFv\",\n",
            "      \"result_files\": [\n",
            "        \"file-F5ydxgRm6Vr3SHnfMJt6Bu\"\n",
            "      ],\n",
            "      \"seed\": 1507819671,\n",
            "      \"status\": \"succeeded\",\n",
            "      \"trained_tokens\": 3870,\n",
            "      \"training_file\": \"file-3J2HiTy4s3s33bJeEycnzg\",\n",
            "      \"validation_file\": null,\n",
            "      \"estimated_finish\": null,\n",
            "      \"integrations\": [],\n",
            "      \"metadata\": null,\n",
            "      \"method\": {\n",
            "        \"type\": \"supervised\",\n",
            "        \"dpo\": null,\n",
            "        \"reinforcement\": null,\n",
            "        \"supervised\": {\n",
            "          \"hyperparameters\": {\n",
            "            \"batch_size\": 1,\n",
            "            \"learning_rate_multiplier\": 2.0,\n",
            "            \"n_epochs\": 10\n",
            "          }\n",
            "        }\n",
            "      },\n",
            "      \"user_provided_suffix\": null,\n",
            "      \"usage_metrics\": null,\n",
            "      \"shared_with_openai\": false,\n",
            "      \"eval_id\": null\n",
            "    },\n",
            "    {\n",
            "      \"id\": \"ftjob-5ZooUcwzAgClbU174SMIzKVp\",\n",
            "      \"created_at\": 1757227719,\n",
            "      \"error\": {\n",
            "        \"code\": \"invalid_n_examples\",\n",
            "        \"message\": \"Training file has 2 example(s), but must have at least 10 examples\",\n",
            "        \"param\": \"training_file\"\n",
            "      },\n",
            "      \"fine_tuned_model\": null,\n",
            "      \"finished_at\": null,\n",
            "      \"hyperparameters\": {\n",
            "        \"batch_size\": \"auto\",\n",
            "        \"learning_rate_multiplier\": \"auto\",\n",
            "        \"n_epochs\": \"auto\"\n",
            "      },\n",
            "      \"model\": \"gpt-3.5-turbo-0125\",\n",
            "      \"object\": \"fine_tuning.job\",\n",
            "      \"organization_id\": \"org-v7W9VAvK63e9Xn7KMv5CwcFv\",\n",
            "      \"result_files\": [],\n",
            "      \"seed\": 1918690131,\n",
            "      \"status\": \"failed\",\n",
            "      \"trained_tokens\": null,\n",
            "      \"training_file\": \"file-NdgmeStdvpGikHeaUudS7n\",\n",
            "      \"validation_file\": null,\n",
            "      \"estimated_finish\": null,\n",
            "      \"integrations\": [],\n",
            "      \"metadata\": null,\n",
            "      \"method\": {\n",
            "        \"type\": \"supervised\",\n",
            "        \"dpo\": null,\n",
            "        \"reinforcement\": null,\n",
            "        \"supervised\": {\n",
            "          \"hyperparameters\": {\n",
            "            \"batch_size\": 1,\n",
            "            \"learning_rate_multiplier\": 2.0,\n",
            "            \"n_epochs\": 25\n",
            "          }\n",
            "        }\n",
            "      },\n",
            "      \"user_provided_suffix\": null,\n",
            "      \"usage_metrics\": null,\n",
            "      \"shared_with_openai\": false,\n",
            "      \"eval_id\": null\n",
            "    },\n",
            "    {\n",
            "      \"id\": \"ftjob-PuHPYWUdhGNqesv8VOxoHHVu\",\n",
            "      \"created_at\": 1757227615,\n",
            "      \"error\": {\n",
            "        \"code\": \"invalid_n_examples\",\n",
            "        \"message\": \"Training file has 2 example(s), but must have at least 10 examples\",\n",
            "        \"param\": \"training_file\"\n",
            "      },\n",
            "      \"fine_tuned_model\": null,\n",
            "      \"finished_at\": null,\n",
            "      \"hyperparameters\": {\n",
            "        \"batch_size\": \"auto\",\n",
            "        \"learning_rate_multiplier\": \"auto\",\n",
            "        \"n_epochs\": \"auto\"\n",
            "      },\n",
            "      \"model\": \"gpt-3.5-turbo-0125\",\n",
            "      \"object\": \"fine_tuning.job\",\n",
            "      \"organization_id\": \"org-v7W9VAvK63e9Xn7KMv5CwcFv\",\n",
            "      \"result_files\": [],\n",
            "      \"seed\": 772997548,\n",
            "      \"status\": \"failed\",\n",
            "      \"trained_tokens\": null,\n",
            "      \"training_file\": \"file-NdgmeStdvpGikHeaUudS7n\",\n",
            "      \"validation_file\": null,\n",
            "      \"estimated_finish\": null,\n",
            "      \"integrations\": [],\n",
            "      \"metadata\": null,\n",
            "      \"method\": {\n",
            "        \"type\": \"supervised\",\n",
            "        \"dpo\": null,\n",
            "        \"reinforcement\": null,\n",
            "        \"supervised\": {\n",
            "          \"hyperparameters\": {\n",
            "            \"batch_size\": 1,\n",
            "            \"learning_rate_multiplier\": 2.0,\n",
            "            \"n_epochs\": 25\n",
            "          }\n",
            "        }\n",
            "      },\n",
            "      \"user_provided_suffix\": null,\n",
            "      \"usage_metrics\": null,\n",
            "      \"shared_with_openai\": false,\n",
            "      \"eval_id\": null\n",
            "    },\n",
            "    {\n",
            "      \"id\": \"ftjob-n8shFIFB1mdatXjrKei3calt\",\n",
            "      \"created_at\": 1757227235,\n",
            "      \"error\": {\n",
            "        \"code\": \"invalid_file_format\",\n",
            "        \"message\": \"The job failed due to a file format error in the training file. Invalid file format. Example 1 is missing key \\\"messages\\\".\",\n",
            "        \"param\": \"training_file\"\n",
            "      },\n",
            "      \"fine_tuned_model\": null,\n",
            "      \"finished_at\": null,\n",
            "      \"hyperparameters\": {\n",
            "        \"batch_size\": \"auto\",\n",
            "        \"learning_rate_multiplier\": \"auto\",\n",
            "        \"n_epochs\": \"auto\"\n",
            "      },\n",
            "      \"model\": \"gpt-3.5-turbo-0125\",\n",
            "      \"object\": \"fine_tuning.job\",\n",
            "      \"organization_id\": \"org-v7W9VAvK63e9Xn7KMv5CwcFv\",\n",
            "      \"result_files\": [],\n",
            "      \"seed\": 390571142,\n",
            "      \"status\": \"failed\",\n",
            "      \"trained_tokens\": null,\n",
            "      \"training_file\": \"file-ARBpGpQsCjQ5RcgmjK49Zj\",\n",
            "      \"validation_file\": null,\n",
            "      \"estimated_finish\": null,\n",
            "      \"integrations\": [],\n",
            "      \"metadata\": null,\n",
            "      \"method\": {\n",
            "        \"type\": \"supervised\",\n",
            "        \"dpo\": null,\n",
            "        \"reinforcement\": null,\n",
            "        \"supervised\": {\n",
            "          \"hyperparameters\": {\n",
            "            \"batch_size\": \"auto\",\n",
            "            \"learning_rate_multiplier\": \"auto\",\n",
            "            \"n_epochs\": \"auto\"\n",
            "          }\n",
            "        }\n",
            "      },\n",
            "      \"user_provided_suffix\": null,\n",
            "      \"usage_metrics\": null,\n",
            "      \"shared_with_openai\": false,\n",
            "      \"eval_id\": null\n",
            "    },\n",
            "    {\n",
            "      \"id\": \"ftjob-xU9drojNTrfnbMemRgOmEod9\",\n",
            "      \"created_at\": 1757227221,\n",
            "      \"error\": {\n",
            "        \"code\": \"invalid_file_format\",\n",
            "        \"message\": \"The job failed due to a file format error in the training file. Invalid file format. Example 1 is missing key \\\"messages\\\".\",\n",
            "        \"param\": \"training_file\"\n",
            "      },\n",
            "      \"fine_tuned_model\": null,\n",
            "      \"finished_at\": null,\n",
            "      \"hyperparameters\": {\n",
            "        \"batch_size\": \"auto\",\n",
            "        \"learning_rate_multiplier\": \"auto\",\n",
            "        \"n_epochs\": \"auto\"\n",
            "      },\n",
            "      \"model\": \"gpt-3.5-turbo-0125\",\n",
            "      \"object\": \"fine_tuning.job\",\n",
            "      \"organization_id\": \"org-v7W9VAvK63e9Xn7KMv5CwcFv\",\n",
            "      \"result_files\": [],\n",
            "      \"seed\": 12123923,\n",
            "      \"status\": \"failed\",\n",
            "      \"trained_tokens\": null,\n",
            "      \"training_file\": \"file-9uEcZ7YoW1pdL3Y6CS6947\",\n",
            "      \"validation_file\": null,\n",
            "      \"estimated_finish\": null,\n",
            "      \"integrations\": [],\n",
            "      \"metadata\": null,\n",
            "      \"method\": {\n",
            "        \"type\": \"supervised\",\n",
            "        \"dpo\": null,\n",
            "        \"reinforcement\": null,\n",
            "        \"supervised\": {\n",
            "          \"hyperparameters\": {\n",
            "            \"batch_size\": \"auto\",\n",
            "            \"learning_rate_multiplier\": \"auto\",\n",
            "            \"n_epochs\": \"auto\"\n",
            "          }\n",
            "        }\n",
            "      },\n",
            "      \"user_provided_suffix\": null,\n",
            "      \"usage_metrics\": null,\n",
            "      \"shared_with_openai\": false,\n",
            "      \"eval_id\": null\n",
            "    },\n",
            "    {\n",
            "      \"id\": \"ftjob-qHohz3GUYIjnlcN8z1bG0Zd9\",\n",
            "      \"created_at\": 1757226899,\n",
            "      \"error\": {\n",
            "        \"code\": \"invalid_file_format\",\n",
            "        \"message\": \"The job failed due to a file format error in the training file. Invalid file format. Example 1 is missing key \\\"messages\\\".\",\n",
            "        \"param\": \"training_file\"\n",
            "      },\n",
            "      \"fine_tuned_model\": null,\n",
            "      \"finished_at\": null,\n",
            "      \"hyperparameters\": {\n",
            "        \"batch_size\": \"auto\",\n",
            "        \"learning_rate_multiplier\": \"auto\",\n",
            "        \"n_epochs\": \"auto\"\n",
            "      },\n",
            "      \"model\": \"gpt-3.5-turbo-0125\",\n",
            "      \"object\": \"fine_tuning.job\",\n",
            "      \"organization_id\": \"org-v7W9VAvK63e9Xn7KMv5CwcFv\",\n",
            "      \"result_files\": [],\n",
            "      \"seed\": 403036149,\n",
            "      \"status\": \"failed\",\n",
            "      \"trained_tokens\": null,\n",
            "      \"training_file\": \"file-9uEcZ7YoW1pdL3Y6CS6947\",\n",
            "      \"validation_file\": null,\n",
            "      \"estimated_finish\": null,\n",
            "      \"integrations\": [],\n",
            "      \"metadata\": null,\n",
            "      \"method\": {\n",
            "        \"type\": \"supervised\",\n",
            "        \"dpo\": null,\n",
            "        \"reinforcement\": null,\n",
            "        \"supervised\": {\n",
            "          \"hyperparameters\": {\n",
            "            \"batch_size\": \"auto\",\n",
            "            \"learning_rate_multiplier\": \"auto\",\n",
            "            \"n_epochs\": \"auto\"\n",
            "          }\n",
            "        }\n",
            "      },\n",
            "      \"user_provided_suffix\": null,\n",
            "      \"usage_metrics\": null,\n",
            "      \"shared_with_openai\": false,\n",
            "      \"eval_id\": null\n",
            "    }\n",
            "  ],\n",
            "  \"has_more\": false,\n",
            "  \"object\": \"list\"\n",
            "}\n"
          ]
        }
      ],
      "source": [
        "!openai api fine_tuning.jobs.list"
      ]
    },
    {
      "cell_type": "markdown",
      "metadata": {
        "id": "Xc_6dO_Y13PG"
      },
      "source": [
        "Step 5: Using the Fine-Tuned Model."
      ]
    },
    {
      "cell_type": "code",
      "execution_count": null,
      "metadata": {
        "colab": {
          "base_uri": "https://localhost:8080/"
        },
        "id": "gyFbIVfR15K_",
        "outputId": "747307dd-b9b2-408f-84e2-5cc679160c70"
      },
      "outputs": [
        {
          "name": "stdout",
          "output_type": "stream",
          "text": [
            "C2H5OH\n"
          ]
        }
      ],
      "source": [
        "from openai import OpenAI\n",
        "\n",
        "client = OpenAI()\n",
        "\n",
        "response = client.chat.completions.create(\n",
        "    model=\"ft:gpt-3.5-turbo-0125:personal::CD3b7kvJ\",\n",
        "    messages=[\n",
        "        {\"role\": \"user\", \"content\": \"Q: What is the formula of ethanol?\\nA:\"}\n",
        "    ]\n",
        ")\n",
        "\n",
        "print(response.choices[0].message.content)"
      ]
    },
    {
      "cell_type": "markdown",
      "metadata": {
        "id": "LKmZV3BP2AqB"
      },
      "source": [
        "## 4.3 Building a Chemistry-Focused Conversational Agent\n",
        "\n",
        "Step 1: Prepare and Chunk Your Chemistry Content."
      ]
    },
    {
      "cell_type": "code",
      "execution_count": null,
      "metadata": {
        "id": "-FFh0bs82Iob"
      },
      "outputs": [],
      "source": [
        "# Example documents\n",
        "documents = [\n",
        "    {\n",
        "        \"title\": \"IR Guide\",\n",
        "        \"text\": \"A broad peak around 3200-3600 cm^-1 suggests O–H...\"\n",
        "    },\n",
        "    {\n",
        "        \"title\": \"Reactions\",\n",
        "        \"text\": \"To dehydrate alcohols, use H2SO4 or POCl3...\"\n",
        "    }\n",
        "]\n",
        "\n",
        "# Break documents into chunks (split on blank lines)\n",
        "chunks = [\n",
        "    {\"text\": para}\n",
        "    for doc in documents\n",
        "    for para in doc[\"text\"].split(\"\\n\\n\")\n",
        "]\n",
        "i"
      ]
    },
    {
      "cell_type": "markdown",
      "metadata": {
        "id": "zcf-_C098reJ"
      },
      "source": [
        "Step 2: Generate Embeddings with OpenAI."
      ]
    },
    {
      "cell_type": "code",
      "execution_count": null,
      "metadata": {
        "colab": {
          "base_uri": "https://localhost:8080/"
        },
        "id": "AATYGGK90z45",
        "outputId": "ea2672e9-d088-4603-fa1c-97ef5c49e7fc"
      },
      "outputs": [
        {
          "name": "stdout",
          "output_type": "stream",
          "text": [
            "First embedding dimension: 1536\n"
          ]
        }
      ],
      "source": [
        "from openai import OpenAI\n",
        "\n",
        "# Initialize the client (make sure OPENAI_API_KEY is set in your environment)\n",
        "client = OpenAI()\n",
        "\n",
        "# Example: assume you already have a list of dicts called 'chunks'\n",
        "# Each chunk looks like: {\"text\": \"some text here\"}\n",
        "texts = [c[\"text\"] for c in chunks]\n",
        "\n",
        "# Create embeddings with the latest API\n",
        "resp = client.embeddings.create(\n",
        "    model=\"text-embedding-ada-002\",  # or \"text-embedding-3-small\"/\"text-embedding-3-large\"\n",
        "    input=texts\n",
        ")\n",
        "\n",
        "# Add embeddings back into chunks\n",
        "for i, emb in enumerate(resp.data):\n",
        "    chunks[i][\"embedding\"] = emb.embedding\n",
        "\n",
        "# Optional: check the first embedding length\n",
        "print(\"First embedding dimension:\", len(chunks[0][\"embedding\"]))\n"
      ]
    },
    {
      "cell_type": "markdown",
      "metadata": {
        "id": "t7ZBCvhs8vJ7"
      },
      "source": [
        "Step 3: Embed the Question and Retrieve Similar Chunks. Embed the user's question, then use cosine similarity to find top-matching chunks."
      ]
    },
    {
      "cell_type": "code",
      "execution_count": null,
      "metadata": {
        "colab": {
          "base_uri": "https://localhost:8080/"
        },
        "id": "nzjd-Clv02GG",
        "outputId": "556adc23-00dd-40f7-9c1b-0dd58641a825"
      },
      "outputs": [
        {
          "name": "stdout",
          "output_type": "stream",
          "text": [
            "Most relevant context:\n",
            " A broad peak around 3200-3600 cm^-1 suggests O–H...\n",
            "\n",
            "To dehydrate alcohols, use H2SO4 or POCl3...\n"
          ]
        }
      ],
      "source": [
        "import numpy as np\n",
        "from numpy.linalg import norm\n",
        "from openai import OpenAI\n",
        "\n",
        "# Initialize client (requires OPENAI_API_KEY in your environment)\n",
        "client = OpenAI()\n",
        "\n",
        "# Example query\n",
        "query = \"What does a strong IR peak at 1700 mean?\"\n",
        "\n",
        "# Get embedding for the query\n",
        "qresp = client.embeddings.create(\n",
        "    input=[query],\n",
        "    model=\"text-embedding-ada-002\"  # or \"text-embedding-3-small\"/\"text-embedding-3-large\"\n",
        ")\n",
        "qvec = qresp.data[0].embedding\n",
        "\n",
        "# Define cosine similarity\n",
        "def cosine_similarity(a, b):\n",
        "    return np.dot(a, b) / (norm(a) * norm(b))\n",
        "\n",
        "# Rank chunks by similarity\n",
        "scores = [(cosine_similarity(qvec, c[\"embedding\"]), c[\"text\"]) for c in chunks]\n",
        "\n",
        "# Take top 2 most relevant chunks\n",
        "top_chunks = sorted(scores, key=lambda x: x[0], reverse=True)[:2]\n",
        "context = \"\\n\\n\".join([text for _, text in top_chunks])\n",
        "\n",
        "print(\"Most relevant context:\\n\", context)\n"
      ]
    },
    {
      "cell_type": "markdown",
      "metadata": {
        "id": "72qJKKBN8ysu"
      },
      "source": [
        "Step 4: Create Prompt and Call ChatGPT. Construct a prompt that includes the context, then pass it to ChatGPT."
      ]
    },
    {
      "cell_type": "code",
      "execution_count": null,
      "metadata": {
        "colab": {
          "base_uri": "https://localhost:8080/"
        },
        "id": "LQT4pPmj8zy9",
        "outputId": "81397284-0e51-437d-8e7a-0e933fbd6a21"
      },
      "outputs": [
        {
          "name": "stdout",
          "output_type": "stream",
          "text": [
            "A strong IR peak at 1700 cm^-1 typically indicates the presence of a carbonyl group (C=O) in the molecule.\n"
          ]
        }
      ],
      "source": [
        "from openai import OpenAI\n",
        "\n",
        "# Initialize client\n",
        "client = OpenAI()\n",
        "\n",
        "# Build the prompt with retrieved context\n",
        "prompt = f\"\"\"\n",
        "You are a chemistry assistant. Use the context below to answer the question.\n",
        "\n",
        "Context:\n",
        "{context}\n",
        "\n",
        "Question:\n",
        "{query}\n",
        "\n",
        "Answer:\n",
        "\"\"\"\n",
        "\n",
        "# Get completion\n",
        "response = client.chat.completions.create(\n",
        "    model=\"gpt-3.5-turbo\",\n",
        "    messages=[{\"role\": \"user\", \"content\": prompt}],\n",
        "    temperature=0\n",
        ")\n",
        "\n",
        "# Print the assistant's answer\n",
        "print(response.choices[0].message.content)\n"
      ]
    },
    {
      "cell_type": "markdown",
      "metadata": {
        "id": "bzibviR-8-ks"
      },
      "source": [
        "## 4.4 Tool Use and Function Calling"
      ]
    },
    {
      "cell_type": "code",
      "execution_count": null,
      "metadata": {
        "colab": {
          "base_uri": "https://localhost:8080/"
        },
        "id": "HOO-0do6890H",
        "outputId": "12016cb7-12b4-454b-e577-d255a4c3f503"
      },
      "outputs": [
        {
          "name": "stdout",
          "output_type": "stream",
          "text": [
            "The molecular weight of caffeine is approximately 194.19 g/mol.\n"
          ]
        }
      ],
      "source": [
        "def get_molecular_weight(compound_name):\n",
        "    weights = {\n",
        "        \"water\": 18.015,\n",
        "        \"caffeine\": 194.19\n",
        "    }\n",
        "    return weights.get(compound_name.lower(), \"Unknown\")\n",
        "\n",
        "\n",
        "# Example function call\n",
        "compound = \"caffeine\"\n",
        "mw = get_molecular_weight(compound)\n",
        "\n",
        "if mw != \"Unknown\":\n",
        "    print(f\"The molecular weight of {compound} is approximately {mw} g/mol.\")\n",
        "else:\n",
        "    print(f\"Molecular weight for {compound} is not in the database.\")\n"
      ]
    },
    {
      "cell_type": "code",
      "execution_count": null,
      "metadata": {
        "id": "gF-B26TM9Lx-"
      },
      "outputs": [],
      "source": []
    }
  ],
  "metadata": {
    "colab": {
      "provenance": []
    },
    "kernelspec": {
      "display_name": "Python 3",
      "name": "python3"
    },
    "language_info": {
      "name": "python"
    }
  },
  "nbformat": 4,
  "nbformat_minor": 0
}
