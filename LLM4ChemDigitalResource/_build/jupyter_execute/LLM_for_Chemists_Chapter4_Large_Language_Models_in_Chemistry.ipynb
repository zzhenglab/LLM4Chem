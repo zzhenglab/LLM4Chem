{
 "cells": [
  {
   "cell_type": "markdown",
   "metadata": {
    "id": "HBe1WlpV0qXc"
   },
   "source": [
    " ### **Chapter 4 Large Language Models in Chemistry**\n",
    "Step 1: Prepare Your Dataset"
   ]
  },
  {
   "cell_type": "code",
   "execution_count": 1,
   "metadata": {
    "colab": {
     "base_uri": "https://localhost:8080/"
    },
    "id": "dYK-0PDF0ltj",
    "outputId": "5acccc68-d888-4e25-b183-b8a5a262e76b"
   },
   "outputs": [
    {
     "name": "stdout",
     "output_type": "stream",
     "text": [
      "Wrote chat-format file!\n",
      "{\"messages\": [{\"role\": \"system\", \"content\": \"You are a chemistry tutor.\"}, {\"role\": \"user\", \"content\": \"What is the formula of acetone?\"}, {\"role\": \"assistant\", \"content\": \"C3H6O\"}]}\r\n",
      "{\"messages\": [{\"role\": \"system\", \"content\": \"You are a chemistry tutor.\"}, {\"role\": \"user\", \"content\": \"How many 1H NMR signals would benzene have?\"}, {\"role\": \"assistant\", \"content\": \"1 (all hydrogens are equivalent)\"}]}\r\n",
      "{\"messages\": [{\"role\": \"system\", \"content\": \"You are a chemistry tutor.\"}, {\"role\": \"user\", \"content\": \"What functional group is present in ethanol?\"}, {\"role\": \"assistant\", \"content\": \"A hydroxyl (-OH) group\"}]}\r\n",
      "{\"messages\": [{\"role\": \"system\", \"content\": \"You are a chemistry tutor.\"}, {\"role\": \"user\", \"content\": \"What is the pKa of acetic acid approximately?\"}, {\"role\": \"assistant\", \"content\": \"Around 4.76\"}]}\r\n",
      "{\"messages\": [{\"role\": \"system\", \"content\": \"You are a chemistry tutor.\"}, {\"role\": \"user\", \"content\": \"What is the molecular geometry of methane?\"}, {\"role\": \"assistant\", \"content\": \"Tetrahedral\"}]}\r\n"
     ]
    }
   ],
   "source": [
    "import json\n",
    "data = [\n",
    "    {\n",
    "        \"messages\": [\n",
    "            {\"role\": \"system\", \"content\": \"You are a chemistry tutor.\"},\n",
    "            {\"role\": \"user\", \"content\": \"What is the formula of acetone?\"},\n",
    "            {\"role\": \"assistant\", \"content\": \"C3H6O\"}\n",
    "        ]\n",
    "    },\n",
    "    {\n",
    "        \"messages\": [\n",
    "            {\"role\": \"system\", \"content\": \"You are a chemistry tutor.\"},\n",
    "            {\"role\": \"user\", \"content\": \"How many 1H NMR signals would benzene have?\"},\n",
    "            {\"role\": \"assistant\", \"content\": \"1 (all hydrogens are equivalent)\"}\n",
    "        ]\n",
    "    },\n",
    "    {\n",
    "        \"messages\": [\n",
    "            {\"role\": \"system\", \"content\": \"You are a chemistry tutor.\"},\n",
    "            {\"role\": \"user\", \"content\": \"What functional group is present in ethanol?\"},\n",
    "            {\"role\": \"assistant\", \"content\": \"A hydroxyl (-OH) group\"}\n",
    "        ]\n",
    "    },\n",
    "    {\n",
    "        \"messages\": [\n",
    "            {\"role\": \"system\", \"content\": \"You are a chemistry tutor.\"},\n",
    "            {\"role\": \"user\", \"content\": \"What is the pKa of acetic acid approximately?\"},\n",
    "            {\"role\": \"assistant\", \"content\": \"Around 4.76\"}\n",
    "        ]\n",
    "    },\n",
    "    {\n",
    "        \"messages\": [\n",
    "            {\"role\": \"system\", \"content\": \"You are a chemistry tutor.\"},\n",
    "            {\"role\": \"user\", \"content\": \"What is the molecular geometry of methane?\"},\n",
    "            {\"role\": \"assistant\", \"content\": \"Tetrahedral\"}\n",
    "        ]\n",
    "    },\n",
    "    {\n",
    "        \"messages\": [\n",
    "            {\"role\": \"system\", \"content\": \"You are a chemistry tutor.\"},\n",
    "            {\"role\": \"user\", \"content\": \"What hybridization does the carbon atom in ethyne (C2H2) have?\"},\n",
    "            {\"role\": \"assistant\", \"content\": \"sp hybridization\"}\n",
    "        ]\n",
    "    },\n",
    "    {\n",
    "        \"messages\": [\n",
    "            {\"role\": \"system\", \"content\": \"You are a chemistry tutor.\"},\n",
    "            {\"role\": \"user\", \"content\": \"Which reagent is commonly used to test for unsaturation (double bonds) in hydrocarbons?\"},\n",
    "            {\"role\": \"assistant\", \"content\": \"Bromine water (Br2 in CCl4)\"}\n",
    "        ]\n",
    "    },\n",
    "    {\n",
    "        \"messages\": [\n",
    "            {\"role\": \"system\", \"content\": \"You are a chemistry tutor.\"},\n",
    "            {\"role\": \"user\", \"content\": \"What type of bond is formed between Na+ and Cl- in NaCl?\"},\n",
    "            {\"role\": \"assistant\", \"content\": \"An ionic bond\"}\n",
    "        ]\n",
    "    },\n",
    "    {\n",
    "        \"messages\": [\n",
    "            {\"role\": \"system\", \"content\": \"You are a chemistry tutor.\"},\n",
    "            {\"role\": \"user\", \"content\": \"What is the IUPAC name of CH3-CH2-CH2-OH?\"},\n",
    "            {\"role\": \"assistant\", \"content\": \"Propan-1-ol\"}\n",
    "        ]\n",
    "    },\n",
    "    {\n",
    "        \"messages\": [\n",
    "            {\"role\": \"system\", \"content\": \"You are a chemistry tutor.\"},\n",
    "            {\"role\": \"user\", \"content\": \"Which gas is released when hydrochloric acid reacts with sodium carbonate?\"},\n",
    "            {\"role\": \"assistant\", \"content\": \"Carbon dioxide (CO2)\"}\n",
    "        ]\n",
    "    }\n",
    "]\n",
    "\n",
    "\n",
    "\n",
    "with open(\"chem_tuning_data_chat.jsonl\", \"w\", encoding=\"utf-8\") as f:\n",
    "    for row in data:\n",
    "        f.write(json.dumps(row, ensure_ascii=False) + \"\\n\")\n",
    "\n",
    "print(\"Wrote chat-format file!\")\n",
    "!head -n 5 chem_tuning_data_chat.jsonl\n"
   ]
  },
  {
   "cell_type": "markdown",
   "metadata": {
    "id": "7OSI1Ldu1T7n"
   },
   "source": [
    "Step 2: Upload and Validate the Dataset.\n",
    "\n"
   ]
  },
  {
   "cell_type": "code",
   "execution_count": 2,
   "metadata": {
    "id": "A7o6W1dS1YqA"
   },
   "outputs": [],
   "source": [
    "#This command has been depreciated\n",
    "#!openai tools fine_tunes.prepare_data -f chem_tuning_data_chat.jsonl\n"
   ]
  },
  {
   "cell_type": "code",
   "execution_count": 3,
   "metadata": {
    "colab": {
     "base_uri": "https://localhost:8080/"
    },
    "id": "A3soYt4u1ibQ",
    "outputId": "7d2b75a4-2729-4dea-b063-d325e5d59b12"
   },
   "outputs": [
    {
     "name": "stdout",
     "output_type": "stream",
     "text": [
      "\r",
      "Upload progress:   0%|                             | 0.00/2.16k [00:00<?, ?it/s]Traceback (most recent call last):\r\n",
      "  File \"/Users/violet/anaconda3/bin/openai\", line 8, in <module>\r\n",
      "    sys.exit(main())\r\n",
      "             ^^^^^^\r\n",
      "  File \"/Users/violet/anaconda3/lib/python3.11/site-packages/openai/cli/_cli.py\", line 129, in main\r\n",
      "    _main()\r\n",
      "  File \"/Users/violet/anaconda3/lib/python3.11/site-packages/openai/cli/_cli.py\", line 209, in _main\r\n",
      "    parsed.func(\r\n",
      "  File \"/Users/violet/anaconda3/lib/python3.11/site-packages/openai/cli/_api/files.py\", line 58, in create\r\n",
      "    file = get_client().files.create(\r\n",
      "           ^^^^^^^^^^^^\r\n",
      "  File \"/Users/violet/anaconda3/lib/python3.11/site-packages/openai/cli/_utils.py\", line 24, in get_client\r\n",
      "    return _load_client()\r\n",
      "           ^^^^^^^^^^^^^^\r\n",
      "  File \"/Users/violet/anaconda3/lib/python3.11/site-packages/openai/__init__.py\", line 307, in _load_client\r\n",
      "    _client = _ModuleClient(\r\n",
      "              ^^^^^^^^^^^^^^\r\n",
      "  File \"/Users/violet/anaconda3/lib/python3.11/site-packages/openai/_client.py\", line 98, in __init__\r\n",
      "    raise OpenAIError(\r\n",
      "openai.OpenAIError: The api_key client option must be set either by passing api_key to the client or by setting the OPENAI_API_KEY environment variable\r\n",
      "\r",
      "Upload progress:   0%|                             | 0.00/2.16k [00:00<?, ?it/s]\r\n"
     ]
    }
   ],
   "source": [
    "!openai api files.create -f chem_tuning_data_chat.jsonl -p fine-tune"
   ]
  },
  {
   "cell_type": "markdown",
   "metadata": {
    "id": "a12HNJlH1l-9"
   },
   "source": [
    "Step 3: Initiate the Fine-Tuning Job"
   ]
  },
  {
   "cell_type": "code",
   "execution_count": 4,
   "metadata": {
    "colab": {
     "base_uri": "https://localhost:8080/"
    },
    "id": "OJpcSNP81pzj",
    "outputId": "714bd07e-4d8f-4ca2-f42b-9ab5c4220137"
   },
   "outputs": [
    {
     "name": "stdout",
     "output_type": "stream",
     "text": [
      "usage: openai api [-h]\r\n",
      "                  {chat.completions.create,images.generate,images.edit,images.create_variation,audio.transcriptions.create,audio.translations.create,files.create,files.retrieve,files.delete,files.list,models.list,models.retrieve,models.delete,completions.create}\r\n",
      "                  ...\r\n"
     ]
    },
    {
     "name": "stdout",
     "output_type": "stream",
     "text": [
      "openai api: error: argument {chat.completions.create,images.generate,images.edit,images.create_variation,audio.transcriptions.create,audio.translations.create,files.create,files.retrieve,files.delete,files.list,models.list,models.retrieve,models.delete,completions.create}: invalid choice: 'fine_tuning.jobs.create' (choose from 'chat.completions.create', 'images.generate', 'images.edit', 'images.create_variation', 'audio.transcriptions.create', 'audio.translations.create', 'files.create', 'files.retrieve', 'files.delete', 'files.list', 'models.list', 'models.retrieve', 'models.delete', 'completions.create')\r\n"
     ]
    }
   ],
   "source": [
    "!openai api fine_tuning.jobs.create -F \"file-3J2HiTy4s3s33bJeEycnzg\" -m gpt-3.5-turbo"
   ]
  },
  {
   "cell_type": "markdown",
   "metadata": {
    "id": "rsacYNyO1x_k"
   },
   "source": [
    "Step 4: Monitor the Fine-Tune and Wait."
   ]
  },
  {
   "cell_type": "code",
   "execution_count": 5,
   "metadata": {
    "colab": {
     "base_uri": "https://localhost:8080/"
    },
    "id": "xXPspxnG10G9",
    "outputId": "d1e29214-449c-4293-e83e-b48e5be4b072"
   },
   "outputs": [
    {
     "name": "stdout",
     "output_type": "stream",
     "text": [
      "usage: openai api [-h]\r\n",
      "                  {chat.completions.create,images.generate,images.edit,images.create_variation,audio.transcriptions.create,audio.translations.create,files.create,files.retrieve,files.delete,files.list,models.list,models.retrieve,models.delete,completions.create}\r\n",
      "                  ...\r\n",
      "openai api: error: argument {chat.completions.create,images.generate,images.edit,images.create_variation,audio.transcriptions.create,audio.translations.create,files.create,files.retrieve,files.delete,files.list,models.list,models.retrieve,models.delete,completions.create}: invalid choice: 'fine_tuning.jobs.list' (choose from 'chat.completions.create', 'images.generate', 'images.edit', 'images.create_variation', 'audio.transcriptions.create', 'audio.translations.create', 'files.create', 'files.retrieve', 'files.delete', 'files.list', 'models.list', 'models.retrieve', 'models.delete', 'completions.create')\r\n"
     ]
    }
   ],
   "source": [
    "!openai api fine_tuning.jobs.list"
   ]
  },
  {
   "cell_type": "markdown",
   "metadata": {
    "id": "Xc_6dO_Y13PG"
   },
   "source": [
    "Step 5: Using the Fine-Tuned Model."
   ]
  },
  {
   "cell_type": "code",
   "execution_count": 6,
   "metadata": {
    "colab": {
     "base_uri": "https://localhost:8080/"
    },
    "id": "gyFbIVfR15K_",
    "outputId": "747307dd-b9b2-408f-84e2-5cc679160c70"
   },
   "outputs": [
    {
     "ename": "OpenAIError",
     "evalue": "The api_key client option must be set either by passing api_key to the client or by setting the OPENAI_API_KEY environment variable",
     "output_type": "error",
     "traceback": [
      "\u001b[0;31m---------------------------------------------------------------------------\u001b[0m",
      "\u001b[0;31mOpenAIError\u001b[0m                               Traceback (most recent call last)",
      "Cell \u001b[0;32mIn[6], line 3\u001b[0m\n\u001b[1;32m      1\u001b[0m \u001b[38;5;28;01mfrom\u001b[39;00m\u001b[38;5;250m \u001b[39m\u001b[38;5;21;01mopenai\u001b[39;00m\u001b[38;5;250m \u001b[39m\u001b[38;5;28;01mimport\u001b[39;00m OpenAI\n\u001b[0;32m----> 3\u001b[0m client \u001b[38;5;241m=\u001b[39m OpenAI()\n\u001b[1;32m      5\u001b[0m response \u001b[38;5;241m=\u001b[39m client\u001b[38;5;241m.\u001b[39mchat\u001b[38;5;241m.\u001b[39mcompletions\u001b[38;5;241m.\u001b[39mcreate(\n\u001b[1;32m      6\u001b[0m     model\u001b[38;5;241m=\u001b[39m\u001b[38;5;124m\"\u001b[39m\u001b[38;5;124mft:gpt-3.5-turbo-0125:personal::CD3b7kvJ\u001b[39m\u001b[38;5;124m\"\u001b[39m,\n\u001b[1;32m      7\u001b[0m     messages\u001b[38;5;241m=\u001b[39m[\n\u001b[1;32m      8\u001b[0m         {\u001b[38;5;124m\"\u001b[39m\u001b[38;5;124mrole\u001b[39m\u001b[38;5;124m\"\u001b[39m: \u001b[38;5;124m\"\u001b[39m\u001b[38;5;124muser\u001b[39m\u001b[38;5;124m\"\u001b[39m, \u001b[38;5;124m\"\u001b[39m\u001b[38;5;124mcontent\u001b[39m\u001b[38;5;124m\"\u001b[39m: \u001b[38;5;124m\"\u001b[39m\u001b[38;5;124mQ: What is the formula of ethanol?\u001b[39m\u001b[38;5;130;01m\\n\u001b[39;00m\u001b[38;5;124mA:\u001b[39m\u001b[38;5;124m\"\u001b[39m}\n\u001b[1;32m      9\u001b[0m     ]\n\u001b[1;32m     10\u001b[0m )\n\u001b[1;32m     12\u001b[0m \u001b[38;5;28mprint\u001b[39m(response\u001b[38;5;241m.\u001b[39mchoices[\u001b[38;5;241m0\u001b[39m]\u001b[38;5;241m.\u001b[39mmessage\u001b[38;5;241m.\u001b[39mcontent)\n",
      "File \u001b[0;32m~/anaconda3/lib/python3.11/site-packages/openai/_client.py:98\u001b[0m, in \u001b[0;36mOpenAI.__init__\u001b[0;34m(self, api_key, organization, base_url, timeout, max_retries, default_headers, default_query, http_client, _strict_response_validation)\u001b[0m\n\u001b[1;32m     96\u001b[0m     api_key \u001b[38;5;241m=\u001b[39m os\u001b[38;5;241m.\u001b[39menviron\u001b[38;5;241m.\u001b[39mget(\u001b[38;5;124m\"\u001b[39m\u001b[38;5;124mOPENAI_API_KEY\u001b[39m\u001b[38;5;124m\"\u001b[39m)\n\u001b[1;32m     97\u001b[0m \u001b[38;5;28;01mif\u001b[39;00m api_key \u001b[38;5;129;01mis\u001b[39;00m \u001b[38;5;28;01mNone\u001b[39;00m:\n\u001b[0;32m---> 98\u001b[0m     \u001b[38;5;28;01mraise\u001b[39;00m OpenAIError(\n\u001b[1;32m     99\u001b[0m         \u001b[38;5;124m\"\u001b[39m\u001b[38;5;124mThe api_key client option must be set either by passing api_key to the client or by setting the OPENAI_API_KEY environment variable\u001b[39m\u001b[38;5;124m\"\u001b[39m\n\u001b[1;32m    100\u001b[0m     )\n\u001b[1;32m    101\u001b[0m \u001b[38;5;28mself\u001b[39m\u001b[38;5;241m.\u001b[39mapi_key \u001b[38;5;241m=\u001b[39m api_key\n\u001b[1;32m    103\u001b[0m \u001b[38;5;28;01mif\u001b[39;00m organization \u001b[38;5;129;01mis\u001b[39;00m \u001b[38;5;28;01mNone\u001b[39;00m:\n",
      "\u001b[0;31mOpenAIError\u001b[0m: The api_key client option must be set either by passing api_key to the client or by setting the OPENAI_API_KEY environment variable"
     ]
    }
   ],
   "source": [
    "from openai import OpenAI\n",
    "\n",
    "client = OpenAI()\n",
    "\n",
    "response = client.chat.completions.create(\n",
    "    model=\"ft:gpt-3.5-turbo-0125:personal::CD3b7kvJ\",\n",
    "    messages=[\n",
    "        {\"role\": \"user\", \"content\": \"Q: What is the formula of ethanol?\\nA:\"}\n",
    "    ]\n",
    ")\n",
    "\n",
    "print(response.choices[0].message.content)"
   ]
  },
  {
   "cell_type": "markdown",
   "metadata": {
    "id": "LKmZV3BP2AqB"
   },
   "source": [
    "## 4.3 Building a Chemistry-Focused Conversational Agent\n",
    "\n",
    "Step 1: Prepare and Chunk Your Chemistry Content."
   ]
  },
  {
   "cell_type": "code",
   "execution_count": null,
   "metadata": {
    "id": "-FFh0bs82Iob"
   },
   "outputs": [],
   "source": [
    "# Example documents\n",
    "documents = [\n",
    "    {\n",
    "        \"title\": \"IR Guide\",\n",
    "        \"text\": \"A broad peak around 3200-3600 cm^-1 suggests O–H...\"\n",
    "    },\n",
    "    {\n",
    "        \"title\": \"Reactions\",\n",
    "        \"text\": \"To dehydrate alcohols, use H2SO4 or POCl3...\"\n",
    "    }\n",
    "]\n",
    "\n",
    "# Break documents into chunks (split on blank lines)\n",
    "chunks = [\n",
    "    {\"text\": para}\n",
    "    for doc in documents\n",
    "    for para in doc[\"text\"].split(\"\\n\\n\")\n",
    "]\n",
    "i"
   ]
  },
  {
   "cell_type": "markdown",
   "metadata": {
    "id": "zcf-_C098reJ"
   },
   "source": [
    "Step 2: Generate Embeddings with OpenAI."
   ]
  },
  {
   "cell_type": "code",
   "execution_count": null,
   "metadata": {
    "colab": {
     "base_uri": "https://localhost:8080/"
    },
    "id": "AATYGGK90z45",
    "outputId": "ea2672e9-d088-4603-fa1c-97ef5c49e7fc"
   },
   "outputs": [
    {
     "name": "stdout",
     "output_type": "stream",
     "text": [
      "First embedding dimension: 1536\n"
     ]
    }
   ],
   "source": [
    "from openai import OpenAI\n",
    "\n",
    "# Initialize the client (make sure OPENAI_API_KEY is set in your environment)\n",
    "client = OpenAI()\n",
    "\n",
    "# Example: assume you already have a list of dicts called 'chunks'\n",
    "# Each chunk looks like: {\"text\": \"some text here\"}\n",
    "texts = [c[\"text\"] for c in chunks]\n",
    "\n",
    "# Create embeddings with the latest API\n",
    "resp = client.embeddings.create(\n",
    "    model=\"text-embedding-ada-002\",  # or \"text-embedding-3-small\"/\"text-embedding-3-large\"\n",
    "    input=texts\n",
    ")\n",
    "\n",
    "# Add embeddings back into chunks\n",
    "for i, emb in enumerate(resp.data):\n",
    "    chunks[i][\"embedding\"] = emb.embedding\n",
    "\n",
    "# Optional: check the first embedding length\n",
    "print(\"First embedding dimension:\", len(chunks[0][\"embedding\"]))\n"
   ]
  },
  {
   "cell_type": "markdown",
   "metadata": {
    "id": "t7ZBCvhs8vJ7"
   },
   "source": [
    "Step 3: Embed the Question and Retrieve Similar Chunks. Embed the user's question, then use cosine similarity to find top-matching chunks."
   ]
  },
  {
   "cell_type": "code",
   "execution_count": null,
   "metadata": {
    "colab": {
     "base_uri": "https://localhost:8080/"
    },
    "id": "nzjd-Clv02GG",
    "outputId": "556adc23-00dd-40f7-9c1b-0dd58641a825"
   },
   "outputs": [
    {
     "name": "stdout",
     "output_type": "stream",
     "text": [
      "Most relevant context:\n",
      " A broad peak around 3200-3600 cm^-1 suggests O–H...\n",
      "\n",
      "To dehydrate alcohols, use H2SO4 or POCl3...\n"
     ]
    }
   ],
   "source": [
    "import numpy as np\n",
    "from numpy.linalg import norm\n",
    "from openai import OpenAI\n",
    "\n",
    "# Initialize client (requires OPENAI_API_KEY in your environment)\n",
    "client = OpenAI()\n",
    "\n",
    "# Example query\n",
    "query = \"What does a strong IR peak at 1700 mean?\"\n",
    "\n",
    "# Get embedding for the query\n",
    "qresp = client.embeddings.create(\n",
    "    input=[query],\n",
    "    model=\"text-embedding-ada-002\"  # or \"text-embedding-3-small\"/\"text-embedding-3-large\"\n",
    ")\n",
    "qvec = qresp.data[0].embedding\n",
    "\n",
    "# Define cosine similarity\n",
    "def cosine_similarity(a, b):\n",
    "    return np.dot(a, b) / (norm(a) * norm(b))\n",
    "\n",
    "# Rank chunks by similarity\n",
    "scores = [(cosine_similarity(qvec, c[\"embedding\"]), c[\"text\"]) for c in chunks]\n",
    "\n",
    "# Take top 2 most relevant chunks\n",
    "top_chunks = sorted(scores, key=lambda x: x[0], reverse=True)[:2]\n",
    "context = \"\\n\\n\".join([text for _, text in top_chunks])\n",
    "\n",
    "print(\"Most relevant context:\\n\", context)\n"
   ]
  },
  {
   "cell_type": "markdown",
   "metadata": {
    "id": "72qJKKBN8ysu"
   },
   "source": [
    "Step 4: Create Prompt and Call ChatGPT. Construct a prompt that includes the context, then pass it to ChatGPT."
   ]
  },
  {
   "cell_type": "code",
   "execution_count": null,
   "metadata": {
    "colab": {
     "base_uri": "https://localhost:8080/"
    },
    "id": "LQT4pPmj8zy9",
    "outputId": "81397284-0e51-437d-8e7a-0e933fbd6a21"
   },
   "outputs": [
    {
     "name": "stdout",
     "output_type": "stream",
     "text": [
      "A strong IR peak at 1700 cm^-1 typically indicates the presence of a carbonyl group (C=O) in the molecule.\n"
     ]
    }
   ],
   "source": [
    "from openai import OpenAI\n",
    "\n",
    "# Initialize client\n",
    "client = OpenAI()\n",
    "\n",
    "# Build the prompt with retrieved context\n",
    "prompt = f\"\"\"\n",
    "You are a chemistry assistant. Use the context below to answer the question.\n",
    "\n",
    "Context:\n",
    "{context}\n",
    "\n",
    "Question:\n",
    "{query}\n",
    "\n",
    "Answer:\n",
    "\"\"\"\n",
    "\n",
    "# Get completion\n",
    "response = client.chat.completions.create(\n",
    "    model=\"gpt-3.5-turbo\",\n",
    "    messages=[{\"role\": \"user\", \"content\": prompt}],\n",
    "    temperature=0\n",
    ")\n",
    "\n",
    "# Print the assistant's answer\n",
    "print(response.choices[0].message.content)\n"
   ]
  },
  {
   "cell_type": "markdown",
   "metadata": {
    "id": "bzibviR-8-ks"
   },
   "source": [
    "## 4.4 Tool Use and Function Calling"
   ]
  },
  {
   "cell_type": "code",
   "execution_count": null,
   "metadata": {
    "colab": {
     "base_uri": "https://localhost:8080/"
    },
    "id": "HOO-0do6890H",
    "outputId": "12016cb7-12b4-454b-e577-d255a4c3f503"
   },
   "outputs": [
    {
     "name": "stdout",
     "output_type": "stream",
     "text": [
      "The molecular weight of caffeine is approximately 194.19 g/mol.\n"
     ]
    }
   ],
   "source": [
    "def get_molecular_weight(compound_name):\n",
    "    weights = {\n",
    "        \"water\": 18.015,\n",
    "        \"caffeine\": 194.19\n",
    "    }\n",
    "    return weights.get(compound_name.lower(), \"Unknown\")\n",
    "\n",
    "\n",
    "# Example function call\n",
    "compound = \"caffeine\"\n",
    "mw = get_molecular_weight(compound)\n",
    "\n",
    "if mw != \"Unknown\":\n",
    "    print(f\"The molecular weight of {compound} is approximately {mw} g/mol.\")\n",
    "else:\n",
    "    print(f\"Molecular weight for {compound} is not in the database.\")\n"
   ]
  },
  {
   "cell_type": "code",
   "execution_count": null,
   "metadata": {
    "id": "gF-B26TM9Lx-"
   },
   "outputs": [],
   "source": []
  }
 ],
 "metadata": {
  "colab": {
   "provenance": []
  },
  "kernelspec": {
   "display_name": "Python 3",
   "name": "python3"
  },
  "language_info": {
   "codemirror_mode": {
    "name": "ipython",
    "version": 3
   },
   "file_extension": ".py",
   "mimetype": "text/x-python",
   "name": "python",
   "nbconvert_exporter": "python",
   "pygments_lexer": "ipython3",
   "version": "3.11.4"
  }
 },
 "nbformat": 4,
 "nbformat_minor": 0
}