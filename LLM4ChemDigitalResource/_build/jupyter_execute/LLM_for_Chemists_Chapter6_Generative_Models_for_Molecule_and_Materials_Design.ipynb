{
 "cells": [
  {
   "cell_type": "markdown",
   "metadata": {
    "id": "Oit8N07b_eTm"
   },
   "source": [
    " #### **Chapter 6 Generative Models for Molecule and Materials Design**\n",
    "Suppose we want to maximize a molecule’s QED score (a proxy for drug-likeness). We’ll do a toy hill-climbing: start from a simple molecule and try random single-character modifications, accepting them if QED improves:"
   ]
  },
  {
   "cell_type": "code",
   "execution_count": 1,
   "metadata": {
    "colab": {
     "base_uri": "https://localhost:8080/"
    },
    "id": "x0urryje_jji",
    "outputId": "bef22722-3229-42c6-97b9-e6847d161f7c"
   },
   "outputs": [
    {
     "name": "stdout",
     "output_type": "stream",
     "text": [
      "Requirement already satisfied: rdkit in /Users/violet/anaconda3/lib/python3.11/site-packages (2025.3.6)\r\n",
      "Requirement already satisfied: numpy in /Users/violet/anaconda3/lib/python3.11/site-packages (from rdkit) (1.24.3)\r\n",
      "Requirement already satisfied: Pillow in /Users/violet/anaconda3/lib/python3.11/site-packages (from rdkit) (9.4.0)\r\n"
     ]
    }
   ],
   "source": [
    "!pip install rdkit"
   ]
  },
  {
   "cell_type": "code",
   "execution_count": 2,
   "metadata": {
    "colab": {
     "base_uri": "https://localhost:8080/"
    },
    "id": "qjb7gqT6_enM",
    "outputId": "bde1e5cf-4f01-4c8e-9b4c-cc76427c611c"
   },
   "outputs": [
    {
     "name": "stdout",
     "output_type": "stream",
     "text": [
      "Step 0: new best = CCN (QED = 0.41)\n",
      "Step 1: new best = CCN (QED = 0.41)\n",
      "Step 2: new best = CCN (QED = 0.41)\n",
      "Step 3: new best = CCNC (QED = 0.46)\n",
      "Step 4: new best = CCNC (QED = 0.46)\n"
     ]
    }
   ],
   "source": [
    "import random\n",
    "from rdkit import Chem\n",
    "from rdkit.Chem import QED\n",
    "\n",
    "# Start from ethane\n",
    "best_smiles = \"CC\"\n",
    "best_score = QED.qed(Chem.MolFromSmiles(best_smiles))\n",
    "\n",
    "# Run 5 mutation steps\n",
    "for step in range(5):\n",
    "    # Propose a mutation: randomly add one atom (C, N, or O) to the SMILES string\n",
    "    new_smiles = best_smiles + random.choice([\"C\", \"N\", \"O\"])\n",
    "    mol = Chem.MolFromSmiles(new_smiles)\n",
    "\n",
    "    if mol:  # only consider valid molecules\n",
    "        score = QED.qed(mol)\n",
    "        if score > best_score:\n",
    "            best_smiles, best_score = new_smiles, score\n",
    "\n",
    "    print(f\"Step {step}: new best = {best_smiles} (QED = {best_score:.2f})\")\n"
   ]
  },
  {
   "cell_type": "code",
   "execution_count": null,
   "metadata": {
    "id": "tpwVn6ZE_gh4"
   },
   "outputs": [],
   "source": []
  }
 ],
 "metadata": {
  "colab": {
   "provenance": []
  },
  "kernelspec": {
   "display_name": "Python 3",
   "name": "python3"
  },
  "language_info": {
   "codemirror_mode": {
    "name": "ipython",
    "version": 3
   },
   "file_extension": ".py",
   "mimetype": "text/x-python",
   "name": "python",
   "nbconvert_exporter": "python",
   "pygments_lexer": "ipython3",
   "version": "3.11.4"
  }
 },
 "nbformat": 4,
 "nbformat_minor": 0
}