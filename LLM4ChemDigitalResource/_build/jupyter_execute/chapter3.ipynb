{
 "cells": [
  {
   "cell_type": "markdown",
   "metadata": {
    "id": "Nqx1_fqDtnAU"
   },
   "source": [
    "## **Chapter 3 – Foundations of AI and Tools for Chemists**\n",
    "\n",
    "This chapter lays the groundwork for applying artificial intelligence to chemistry.  \n",
    "We begin with core machine-learning concepts—building intuition for methods like neural networks and transformers. Next, we set up a Python environment and introduce essential libraries, with special focus on **RDKit** for chemoinformatics. Finally, we work through hands-on examples of molecular handling: cleaning structures, enumerating reactions, and visualizing molecules in 2D and 3D.  \n",
    "\n",
    "By the end of this chapter, you will:  \n",
    "- Understand the basics of machine learning in a chemical context  \n",
    "- Know how to set up and use Python with key libraries for chemical data  \n",
    "- Have practical experience applying these tools to real molecular problems  \n",
    "\n",
    "This chapter is designed as a **practical, tutorial-style guide**, preparing you for more advanced applications of LLMs in later chapters.\n"
   ]
  },
  {
   "cell_type": "markdown",
   "metadata": {
    "id": "jM5pzkhZ3d_k"
   },
   "source": [
    "### 3.2.1 Setting Up a Python Environment  \n",
    "\n",
    "To begin working with AI tools in chemistry, we’ll set up a dedicated Python environment using **Conda** (via Anaconda or Miniconda). Conda makes it easy to install scientific libraries and manage dependencies such as those required by RDKit.  \n",
    "\n",
    "**Step 1. Install Anaconda or Miniconda**  \n",
    "Download and install [Anaconda](https://www.anaconda.com/download) (full distribution) or [Miniconda](https://docs.conda.io/en/latest/miniconda.html) (lighter version). Both provide Python and Conda; Anaconda also includes Jupyter Notebook.  \n",
    "\n",
    "**Step 2. Create a new environment with Python 3.10**  \n",
    "\n",
    "```bash\n",
    "conda create -n chem-ai python=3.10\n",
    "```\n",
    "This creates a new environment named chem-ai with Python 3.10.\n",
    "\n",
    "**Step 3. Activate the environment**  \n",
    "\n",
    "```bash\n",
    "conda create -n chem-ai python=3.10\n",
    "```\n",
    "From now on, all package installs will go into this environment.\n",
    "\n",
    "**Step 4. Install essential packages**  \n",
    "\n",
    "```bash\n",
    "conda install -c conda-forge rdkit numpy pandas scikit-learn matplotlib\n",
    "```\n",
    "This installs:\n",
    "\n",
    "- **RDKit** – chemoinformatics toolkit  \n",
    "- **NumPy** – numerical computing  \n",
    "- **pandas** – data handling  \n",
    "- **scikit-learn** – ML algorithms  \n",
    "- **matplotlib** – plotting and visualization  \n",
    "\n",
    "**Step 5. Launch Jupyter Notebook (recommended)**  \n",
    "\n",
    "```bash\n",
    "jupyter notebook\n",
    "```\n",
    "This opens an interactive web interface where you can write and run Python code, visualize molecules, and document workflows.\n",
    "\n",
    "\n",
    "**Step 6. Test your environment (optional)**  \n",
    "\n",
    "```python\n",
    "import numpy as np\n",
    "print(\"Numpy version:\", np.__version__)\n",
    "```"
   ]
  },
  {
   "cell_type": "markdown",
   "metadata": {
    "id": "5iZf1cJ593en"
   },
   "source": [
    "\n",
    "After setup, you’ll have a robust local environment ready.  \n",
    "- For quick experiments, you can use **cloud options** like Google Colab (free, Jupyter-like, with RDKit pre-installed) or Binder notebooks.  \n",
    "- For **serious projects or sensitive data**, a **local setup** is recommended.  \n"
   ]
  },
  {
   "cell_type": "code",
   "execution_count": 1,
   "metadata": {
    "colab": {
     "base_uri": "https://localhost:8080/"
    },
    "id": "j42v_uvatphF",
    "outputId": "80b103b0-e1b2-477b-b24e-bf8fd59b6722"
   },
   "outputs": [
    {
     "name": "stdout",
     "output_type": "stream",
     "text": [
      "Numpy version: 1.24.3\n"
     ]
    }
   ],
   "source": [
    "import numpy as np\n",
    "print(\"Numpy version:\", np.__version__)"
   ]
  },
  {
   "cell_type": "markdown",
   "metadata": {
    "id": "JYFxs6dFu5P5"
   },
   "source": [
    "\n",
    "Python uses **indentation** (not braces or END statements) to define code blocks, making the syntax clean and uniform. In Jupyter Notebook, code is typed into a cell and run with **Shift+Enter**, showing output just below.  \n",
    "\n",
    "As a simple example, we can calculate the molecular weight of ethanol (C₂H₆O):  \n",
    "\n",
    "- A **dictionary** stores atomic weights for H, C, and O  \n",
    "- **Square brackets** access values by key  \n",
    "- The **print** function displays results  \n",
    "  "
   ]
  },
  {
   "cell_type": "code",
   "execution_count": 2,
   "metadata": {
    "colab": {
     "base_uri": "https://localhost:8080/"
    },
    "id": "cAVtAut1uxkK",
    "outputId": "c6459009-29d9-49c6-f202-bc347bb469e4"
   },
   "outputs": [
    {
     "name": "stdout",
     "output_type": "stream",
     "text": [
      "Molecular weight of C2H6O: 46.068\n"
     ]
    }
   ],
   "source": [
    "atom = {\"H\": 1.008, \"C\": 12.01, \"O\": 16.00}\n",
    "mw = 2*atom[\"C\"] + 6*atom[\"H\"] + 1*atom[\"O\"]\n",
    "print(\"Molecular weight of C2H6O:\", mw)"
   ]
  },
  {
   "cell_type": "markdown",
   "metadata": {
    "id": "4NizDZiA-NJe"
   },
   "source": [
    "\n",
    "This trivial example already shows how chemists can do useful tasks like calculating formula weights, converting units, or applying simple rules. The real power of Python comes with its **libraries**: while manual calculations work for one molecule, automating across hundreds requires tools that can parse formulas and provide atomic weights. That’s where Python’s ecosystem (e.g., RDKit) becomes indispensable.  \n"
   ]
  },
  {
   "cell_type": "markdown",
   "metadata": {
    "id": "4a20ZlbX-yyX"
   },
   "source": [
    "### 3.2.3 Introduction to RDKit  \n",
    "\n",
    "No discussion of chemoinformatics in Python is complete without **RDKit**.  \n",
    "RDKit is an open-source toolkit that provides a wide range of functionality for working with chemical structures and data, and it is widely considered a must-have tool for chemists who program.  \n",
    "\n",
    "In this section, we will:  \n",
    "- Cover how to install and set up RDKit  \n",
    "- Introduce its core concepts and usage  \n",
    "- Demonstrate basic tasks such as reading a molecule from a SMILES string, examining its properties, and manipulating it  \n",
    "\n",
    "If you followed the environment setup earlier, you may already have RDKit installed.  \n",
    "The most straightforward way to install it is via **conda** using the **conda-forge** channel:  \n",
    "\n",
    "```bash\n",
    "conda install -c conda-forge rdkit\n",
    "```\n",
    "\n",
    "This will pull the precompiled RDKit package for your platform and install it in your environment.\n",
    "\n",
    "\n",
    "After installation, test it as mentioned earlier:"
   ]
  },
  {
   "cell_type": "code",
   "execution_count": 3,
   "metadata": {
    "colab": {
     "base_uri": "https://localhost:8080/"
    },
    "id": "8LXothXdvEKf",
    "outputId": "adaf19bd-4de5-4c91-f2e5-ca000a208e2a"
   },
   "outputs": [
    {
     "name": "stdout",
     "output_type": "stream",
     "text": [
      "<rdkit.Chem.rdchem.Mol object at 0x118f23f40>\n"
     ]
    }
   ],
   "source": [
    "from rdkit  import Chem\n",
    "mol = Chem.MolFromSmiles('CCO') # a simple molecule, ethanol print(mol)\n",
    "print(mol)"
   ]
  },
  {
   "cell_type": "markdown",
   "metadata": {
    "id": "QacyvfD2-_Xq"
   },
   "source": [
    "If RDKit is installed correctly, `Chem.MolFromSmiles` will return a molecule object (`<rdkit.Chem.rdchem.Mol object>`).  \n",
    "If something went wrong, it may return `None` or raise an error.  \n",
    "\n",
    "Here’s another quick test:\n"
   ]
  },
  {
   "cell_type": "code",
   "execution_count": 4,
   "metadata": {
    "colab": {
     "base_uri": "https://localhost:8080/"
    },
    "id": "hIn1bhDDvlPY",
    "outputId": "d7a47941-e93f-4d13-ae2c-c357962ed11c"
   },
   "outputs": [
    {
     "name": "stdout",
     "output_type": "stream",
     "text": [
      "CCO\n"
     ]
    }
   ],
   "source": [
    "print(Chem.MolToSmiles(mol))"
   ]
  },
  {
   "cell_type": "markdown",
   "metadata": {
    "id": "FY6sZizIwRGz"
   },
   "source": [
    "In RDKit, the fundamental object is the Mol – an object representing a molecule. Typically, you obtain a Mol by reading in some representation, such as a SMILES string or a Mol file. For example:"
   ]
  },
  {
   "cell_type": "code",
   "execution_count": 5,
   "metadata": {
    "id": "wIVxd176vqYg"
   },
   "outputs": [],
   "source": [
    "from rdkit import Chem\n",
    "mol = Chem.MolFromSmiles(\"CCO\")"
   ]
  },
  {
   "cell_type": "markdown",
   "metadata": {
    "id": "8gca72sWEHi0"
   },
   "source": [
    "This creates an RDKit molecule for ethanol (CCO). You can also read from a MOL file or SDF:"
   ]
  },
  {
   "cell_type": "code",
   "execution_count": 6,
   "metadata": {
    "id": "n2l0HPEdwcT3"
   },
   "outputs": [
    {
     "ename": "OSError",
     "evalue": "Bad input file molecule.mol",
     "output_type": "error",
     "traceback": [
      "\u001b[0;31m---------------------------------------------------------------------------\u001b[0m",
      "\u001b[0;31mOSError\u001b[0m                                   Traceback (most recent call last)",
      "Cell \u001b[0;32mIn[6], line 1\u001b[0m\n\u001b[0;32m----> 1\u001b[0m mol2 \u001b[38;5;241m=\u001b[39m Chem\u001b[38;5;241m.\u001b[39mMolFromMolFile(\u001b[38;5;124m\"\u001b[39m\u001b[38;5;124mmolecule.mol\u001b[39m\u001b[38;5;124m\"\u001b[39m)\n",
      "\u001b[0;31mOSError\u001b[0m: Bad input file molecule.mol"
     ]
    }
   ],
   "source": [
    "mol2 = Chem.MolFromMolFile(\"molecule.mol\")"
   ]
  },
  {
   "cell_type": "markdown",
   "metadata": {
    "id": "qu41iP3uESa4"
   },
   "source": [
    "RDKit supports many input formats (SMILES, SDF, MolBlock, InChI, etc.). If reading multiple molecules from a file (like an SDF with many entries), there are “supplier” objects (e.g., Chem.SDMolSupplier which you can loop over). But for simplicity, let’s stick to single molecules for now. What is inside a Mol object? Conceptually, RDKit represents a molecule as a graph: atoms connected by bonds. Each Atom has properties (like atomic number, formal charge, etc.), and each Bond has a type (single, double, aromatic, etc.), possibly stereochemistry, etc. RDKit’s Mol holds all this, and provides methods to access it. For example, you can iterate over atoms or bonds"
   ]
  },
  {
   "cell_type": "code",
   "execution_count": null,
   "metadata": {
    "colab": {
     "base_uri": "https://localhost:8080/"
    },
    "id": "c0YkHi2PvtsL",
    "outputId": "72742cab-1856-4e51-b28e-45f72ba1c5be"
   },
   "outputs": [
    {
     "name": "stdout",
     "output_type": "stream",
     "text": [
      "C 6\n",
      "C 6\n",
      "O 8\n"
     ]
    }
   ],
   "source": [
    "for atom in mol.GetAtoms(): print(atom.GetSymbol(), atom.GetAtomicNum())"
   ]
  },
  {
   "cell_type": "markdown",
   "metadata": {
    "id": "I23Dsf4xwh3o"
   },
   "source": [
    "### Exploring Atoms and Bonds  \n",
    "\n",
    "This example prints each atom’s symbol and atomic number in a molecule.  \n",
    "Similarly, `mol.GetBonds()` lets you loop through bonds.  \n",
    "\n",
    "Each **Atom** or **Bond** object has a rich set of methods, for example:  \n",
    "\n"
   ]
  },
  {
   "cell_type": "code",
   "execution_count": null,
   "metadata": {
    "colab": {
     "base_uri": "https://localhost:8080/"
    },
    "id": "1DjQI3SswtWP",
    "outputId": "882cfa6f-2f17-4be7-80db-ff65b03efef6"
   },
   "outputs": [
    {
     "name": "stdout",
     "output_type": "stream",
     "text": [
      "Number of atoms in methane: 1\n"
     ]
    }
   ],
   "source": [
    "methane = Chem.MolFromSmiles(\"C\")\n",
    "num_atoms = methane.GetNumAtoms()\n",
    "print(\"Number of atoms in methane:\", num_atoms)"
   ]
  },
  {
   "cell_type": "markdown",
   "metadata": {
    "id": "dcU8gtScw0I4"
   },
   "source": [
    "But methane (CH₄) has 5 atoms (1 carbon + 4 hydrogens)!  \n",
    "\n",
    "RDKit by default considers only **heavy atoms** (non-hydrogens) when a molecule is created from SMILES.  \n",
    "In the SMILES `\"C\"` for methane, the hydrogen atoms are implicit. RDKit knows they are there (carbon has valence 4, so it assumes 4 hydrogens), but it doesn’t explicitly list them in the graph unless asked.  \n",
    "\n",
    "This is a **design choice**: chemists often don’t want to deal with all hydrogens unless necessary, for simplicity and performance.  \n",
    "\n",
    "If you want to include hydrogens explicitly, you can add them.  "
   ]
  },
  {
   "cell_type": "code",
   "execution_count": null,
   "metadata": {
    "colab": {
     "base_uri": "https://localhost:8080/"
    },
    "id": "pF9TrEhVw4GT",
    "outputId": "f32d0cbe-a3fd-4911-8a68-f8ee7f941695"
   },
   "outputs": [
    {
     "name": "stdout",
     "output_type": "stream",
     "text": [
      "Number of atoms in methane with H: 5\n"
     ]
    }
   ],
   "source": [
    "methane_with_H = Chem.AddHs(methane)\n",
    "print(\"Number of atoms in methane with H:\", methane_with_H.GetNumAtoms())"
   ]
  },
  {
   "cell_type": "markdown",
   "metadata": {
    "id": "19UHO2Wnw-oy"
   },
   "source": [
    "Now the molecule graph has 1 carbon and 4 hydrogens.  \n",
    "RDKit’s `AddHs` function makes implicit hydrogens explicit, and the corresponding `RemoveHs` function can drop them again.  \n",
    "\n",
    "Most computations (e.g., fingerprints, descriptors) assume **implicit hydrogens**, so you usually don’t need to add them unless working with 3D geometry or specific chemistry (such as stereochemistry involving hydrogens).  \n",
    "\n",
    "To illustrate accessing atomic information, consider ethanol `\"CCO\"`.  "
   ]
  },
  {
   "cell_type": "code",
   "execution_count": null,
   "metadata": {
    "colab": {
     "base_uri": "https://localhost:8080/"
    },
    "id": "JpOI507rw6b2",
    "outputId": "fa61681e-ed50-4db9-c307-f45e2bfb3093"
   },
   "outputs": [
    {
     "name": "stdout",
     "output_type": "stream",
     "text": [
      "C 12.011\n",
      "C 12.011\n",
      "O 15.999\n"
     ]
    }
   ],
   "source": [
    "ethanol = Chem.MolFromSmiles(\"CCO\")\n",
    "for atom in ethanol.GetAtoms():\n",
    "  print(atom.GetSymbol(), atom.GetMass())"
   ]
  },
  {
   "cell_type": "markdown",
   "metadata": {
    "id": "6f_aguTVxNNI"
   },
   "source": [
    "RDKit can compute many common molecular properties and descriptors.  \n",
    "- Some are available directly as methods, e.g. `Mol.GetNumHeavyAtoms()` or `Mol.GetMolWt()` (molecular weight).  \n",
    "- Others are available through the **Descriptors** module.  \n",
    "\n",
    "For example:  "
   ]
  },
  {
   "cell_type": "code",
   "execution_count": null,
   "metadata": {
    "colab": {
     "base_uri": "https://localhost:8080/"
    },
    "id": "6EcHTJxHxLZa",
    "outputId": "9a3aaeb8-ffcc-4f14-8277-71b67737a591"
   },
   "outputs": [
    {
     "name": "stdout",
     "output_type": "stream",
     "text": [
      "46.069 -0.0014000000000000123 1\n"
     ]
    }
   ],
   "source": [
    "from rdkit.Chem import Descriptors\n",
    "mw = Descriptors.MolWt(ethanol) # molecular weight\n",
    "logp = Descriptors.MolLogP(ethanol) # Wildman-Crippen LogP\n",
    "hbd = Descriptors.NumHDonors(ethanol) # number of H-bond donors\n",
    "print(mw, logp, hbd)"
   ]
  },
  {
   "cell_type": "markdown",
   "metadata": {
    "id": "h1dB3vXFxZgW"
   },
   "source": [
    "YRDKit also provides functions to **modify molecules**, though one must be mindful of chemically valid changes.  \n",
    "- You can add or remove atoms/bonds using the **editable mol API** (`Chem.RWMol`), though this is more advanced.  \n",
    "- More commonly, new molecules are generated via reactions or pattern substitutions.  \n",
    "\n",
    "A simpler and frequent operation is **standardization and cleanup**.  \n",
    "- RDKit automatically **sanitizes** molecules on creation (checking valences, charges, aromaticity, etc.) to ensure consistency.  \n",
    "- If something seems off, you can call `Chem.SanitizeMol(mol)` manually.  \n",
    "\n",
    "RDKit also makes it easy to **export molecules** in various formats:  \n",
    "- **SMILES**: `Chem.MolToSmiles(mol)`  \n",
    "- **InChI**: `Chem.MolToInchi(mol)` (if InChI support is available)  \n",
    "- **MOL file**: `Chem.MolToMolFile(mol, \"out.mol\")`  \n",
    "- **SDF file**: use `Chem.SDWriter` to write multiple molecules  "
   ]
  },
  {
   "cell_type": "code",
   "execution_count": null,
   "metadata": {
    "colab": {
     "base_uri": "https://localhost:8080/"
    },
    "id": "M-0sDf20xTYj",
    "outputId": "d8fb25a6-b8af-4f45-9d3d-9a364fbcac59"
   },
   "outputs": [
    {
     "name": "stdout",
     "output_type": "stream",
     "text": [
      "Molecule has 7 heavy atoms and 7 bonds.\n",
      "Mol. weight = 94.11, Aromatic atoms = 6\n",
      "Canonical SMILES: Oc1ccccc1\n",
      "InChI: InChI=1S/C6H6O/c7-6-4-2-1-3-5-6/h1-5,7H\n"
     ]
    }
   ],
   "source": [
    "from rdkit import Chem\n",
    "from rdkit.Chem import Descriptors\n",
    "# Create a molecule from SMILES\n",
    "mol = Chem.MolFromSmiles(\"c1ccccc1O\") # phenol (benzene ring with an -OH)\n",
    "if mol:\n",
    "  # Basic info\n",
    "  print(\"Molecule has\", mol.GetNumAtoms(), \"heavy atoms and\", mol.GetNumBonds(), \"bonds.\")\n",
    "  # Compute some descriptors\n",
    "  mol_wt = Descriptors.MolWt(mol)\n",
    "  num_aromatic_atoms = sum(1 for atom in mol.GetAtoms() if atom.GetIsAromatic())\n",
    "  print(f\"Mol. weight = {mol_wt:.2f}, Aromatic atoms = {num_aromatic_atoms}\")\n",
    "  # Generate a SMILES and InChI\n",
    "  print(\"Canonical SMILES:\", Chem.MolToSmiles(mol))\n",
    "  try:\n",
    "    inchi = Chem.MolToInchi(mol)\n",
    "    print(\"InChI:\", inchi)\n",
    "  except:\n",
    "    print(\"InChI generation not available in this RDKit build.\")"
   ]
  },
  {
   "cell_type": "markdown",
   "metadata": {
    "id": "uyNVjoc5xxdM"
   },
   "source": [
    "### 3.3.1 Molecule Manipulation and Standardisation  \n",
    "\n",
    "This part of the chapter applies theory and tools through hands-on examples, focusing on molecule manipulation, standardization, reaction handling, and visualization. Molecule manipulation includes programmatic changes such as adding hydrogens, applying reactions, or generating standardized forms to clean inconsistent data (e.g., removing counter-ions or salts from vendor libraries). For instance, RDKit can split a compound like `CC(=O)[O-].[Na+]` (sodium acetate) into fragments with `Chem.GetMolFrags`, allowing us to retain the main molecule (acetate) while discarding smaller fragments (such as sodium or solvents). These steps ensure that molecules are in a consistent form for modeling, while 2D and 3D visualization aids interpretation and communication of results.  \n",
    "\n",
    "**Example:** Consider sodium acetate, which in SMILES can be written as `CC(=O)[O-].[Na+]`. Using RDKit, we can split this into fragments and keep the main organic molecule (acetate) while discarding the sodium counter-ion. This ensures that the data is standardized and suitable for modeling or further analysis.  "
   ]
  },
  {
   "cell_type": "code",
   "execution_count": null,
   "metadata": {
    "colab": {
     "base_uri": "https://localhost:8080/"
    },
    "id": "OgrgVWvXyF3n",
    "outputId": "72a2567d-0b82-4c9c-e96d-0447faaf88e8"
   },
   "outputs": [
    {
     "name": "stdout",
     "output_type": "stream",
     "text": [
      "Main fragment SMILES: CC(=O)[O-]\n"
     ]
    }
   ],
   "source": [
    "from rdkit import Chem\n",
    "\n",
    "# Create sodium acetate molecule (acetic acid deprotonated plus Na+)\n",
    "mol = Chem.MolFromSmiles(\"CC(=O)[O-].[Na+]\")\n",
    "\n",
    "# Split into separate fragments\n",
    "frags = Chem.GetMolFrags(mol, asMols=True)\n",
    "\n",
    "# Identify the largest fragment by number of atoms\n",
    "main_mol = max(frags, key=lambda m: m.GetNumAtoms())\n",
    "\n",
    "# Print result\n",
    "print(\"Main fragment SMILES:\", Chem.MolToSmiles(main_mol))\n"
   ]
  },
  {
   "cell_type": "markdown",
   "metadata": {
    "id": "K29Wb8vHyLyO"
   },
   "source": [
    "When splitting sodium acetate into fragments, RDKit will return both the acetate anion and the sodium cation. Choosing the largest fragment (by heavy atom count) gives the organic part, e.g., `CC(=O)[O-]`, which is often what we want for modeling. Depending on context, you might later protonate it (to acetic acid `CC(=O)O`).  \n",
    "\n",
    "For more advanced workflows, RDKit provides the **rdMolStandardize** module for automatic cleanup, salt removal, and functional group normalization. Tools like `rdMolStandardize.Cleanup(mol)` or `rdMolStandardize.FragmentParent(mol)` can automate dataset preparation, extending functionality from the earlier MolVS package.  \n",
    "\n",
    "Some molecules also exist in multiple tautomeric forms (e.g., keto vs enol). If not standardized, these may appear as duplicates. RDKit’s MolStandardize can enumerate tautomers and pick a canonical one.  \n",
    "\n",
    "For example:"
   ]
  },
  {
   "cell_type": "code",
   "execution_count": null,
   "metadata": {
    "colab": {
     "base_uri": "https://localhost:8080/"
    },
    "id": "Y4_0-rtgyGQ3",
    "outputId": "32eccb8c-8a5c-4fd9-d2f5-738347b38534"
   },
   "outputs": [
    {
     "name": "stdout",
     "output_type": "stream",
     "text": [
      "Canonical tautomer SMILES: CC(C)=NO\n"
     ]
    }
   ],
   "source": [
    "from rdkit import Chem\n",
    "from rdkit.Chem.MolStandardize import rdMolStandardize\n",
    "\n",
    "# Example molecule (enol form of an amide, possible tautomer)\n",
    "mol = Chem.MolFromSmiles(\"C/C(=N\\\\O)/C\")\n",
    "\n",
    "# Create a tautomer enumerator and canonicalize\n",
    "tautomer_enumerator = rdMolStandardize.TautomerEnumerator()\n",
    "canonical = tautomer_enumerator.Canonicalize(mol)\n",
    "\n",
    "# Print result\n",
    "print(\"Canonical tautomer SMILES:\", Chem.MolToSmiles(canonical))\n"
   ]
  },
  {
   "cell_type": "markdown",
   "metadata": {
    "id": "w2mLExrLyTru"
   },
   "source": [
    "By default, RDKit represents molecules in a **non-explicit hydrogen** form (except where necessary).  \n",
    "For example, when you read a SMILES like `CCO`, RDKit knows the hydrogens are present, but they are **implicit** (each carbon in ethanol has an implicit H count of 3 or 2).  \n",
    "\n",
    "If you need to enumerate all atoms including hydrogens—for tasks like 3D operations or explicit valence counting—you can **add them explicitly**.  "
   ]
  },
  {
   "cell_type": "code",
   "execution_count": null,
   "metadata": {
    "colab": {
     "base_uri": "https://localhost:8080/"
    },
    "id": "7LCFooNmyOoi",
    "outputId": "4b59643e-e2d7-408a-ba1c-9e8661a17d38"
   },
   "outputs": [
    {
     "name": "stdout",
     "output_type": "stream",
     "text": [
      "Atom count before adding H: 3 ; after: 9\n"
     ]
    }
   ],
   "source": [
    "from rdkit import Chem\n",
    "\n",
    "# Create ethanol molecule\n",
    "mol = Chem.MolFromSmiles(\"CCO\")\n",
    "\n",
    "# Add explicit hydrogens\n",
    "mol_with_h = Chem.AddHs(mol)\n",
    "\n",
    "# Compare atom counts\n",
    "print(\"Atom count before adding H:\", mol.GetNumAtoms(),\n",
    "      \"; after:\", mol_with_h.GetNumAtoms())\n"
   ]
  },
  {
   "cell_type": "markdown",
   "metadata": {
    "id": "CjGkx2pmICgA"
   },
   "source": [
    "For ethanol, before adding hydrogens, RDKit’s `GetNumAtoms()` counts 3 (2 carbons + 1 oxygen). After adding hydrogens, it counts 9 (the 3 heavy atoms plus 6 hydrogens). If needed, you can later remove them with `Chem.RemoveHs(mol_with_h)`.  \n",
    "\n",
    "As part of standardization, you may also want to **filter molecules** that don’t meet certain criteria (e.g., very large molecules, inorganic species, or compounds exceeding a molecular weight threshold). RDKit makes this straightforward: after computing descriptors, you can apply filters to enforce rules (such as Lipinski’s Rule-of-5 for drug-likeness).  \n",
    "\n",
    "Example pipeline: given a list of SMILES, standardize each by removing salts, then keep only those under a set molecular weight.  "
   ]
  },
  {
   "cell_type": "code",
   "execution_count": null,
   "metadata": {
    "colab": {
     "base_uri": "https://localhost:8080/"
    },
    "id": "LQ7pwjgCyWYP",
    "outputId": "99b31668-9e17-4c7d-e7c2-587fa3f1af77"
   },
   "outputs": [
    {
     "name": "stdout",
     "output_type": "stream",
     "text": [
      "Kept CC(=O)[O-] with MW 59.0\n",
      "Kept O=C(O)c1ccccc1 with MW 122.1\n",
      "Kept CN(C)C with MW 59.1\n"
     ]
    }
   ],
   "source": [
    "from rdkit import Chem\n",
    "from rdkit.Chem import Descriptors\n",
    "\n",
    "# Example molecules: sodium acetate, benzoic acid, and an amine salt\n",
    "smiles_list = [\"CC(=O)[O-].[Na+]\", \"c1ccc(cc1)C(=O)O\", \"CN(C)C.Cl\"]\n",
    "\n",
    "cleaned_mols = []\n",
    "\n",
    "for smi in smiles_list:\n",
    "    mol = Chem.MolFromSmiles(smi)\n",
    "\n",
    "    # Remove salts by taking the largest fragment\n",
    "    frags = Chem.GetMolFrags(mol, asMols=True)\n",
    "    main = max(frags, key=lambda m: m.GetNumAtoms())\n",
    "\n",
    "    # Compute molecular weight\n",
    "    mw = Descriptors.MolWt(main)\n",
    "\n",
    "    # Keep only molecules under 300 Da\n",
    "    if mw < 300:\n",
    "        cleaned_mols.append(Chem.MolToSmiles(main))\n",
    "        print(f\"Kept {Chem.MolToSmiles(main)} with MW {mw:.1f}\")\n",
    "    else:\n",
    "        print(f\"Removed {Chem.MolToSmiles(main)} with MW {mw:.1f} (too heavy)\")\n"
   ]
  },
  {
   "cell_type": "markdown",
   "metadata": {
    "id": "1ZB774F7y5gK"
   },
   "source": [
    "### 3.3.2 Reaction Handling and Enumeration  \n",
    "\n",
    "Chemical reactions are central to synthetic chemistry, and being able to represent and manipulate them computationally enables tasks like virtual library generation or reaction outcome prediction. Before using advanced models (like LLMs for retrosynthesis), it’s helpful to understand how reactions can be encoded and enumerated with RDKit.  \n",
    "\n",
    "RDKit represents reactions with the `ChemicalReaction` class, which can be created from a **reaction SMARTS** string (`ReactantSmarts1.ReactantSmarts2... >> ProductSmarts`). Atoms are typically annotated with labels (e.g., `[C:1]`, `[O:2]`, `[N:3]`) to ensure mapping between reactants and products.  \n",
    "\n",
    "For example, in a simple amide formation between an acid chloride and an amine, the reaction SMARTS could be written as: `[C:1]Cl.[N:3]>>[C:1][N:3]`\n",
    "\n",
    "Here, `[C:1]` is the carbonyl carbon, `[O:2]` the carbonyl oxygen, and `[N:3]` the nitrogen from the amine. The mapping ensures that the product shows the new bond between carbonyl carbon and nitrogen.  \n",
    "\n",
    "This SMARTS doesn’t explicitly account for the HCl leaving group (we are essentially ignoring it in the products by not writing it, so it will be a byproduct not captured). For our purposes of enumeration, that’s fine. Using RDKit:  \n"
   ]
  },
  {
   "cell_type": "code",
   "execution_count": null,
   "metadata": {
    "colab": {
     "base_uri": "https://localhost:8080/"
    },
    "id": "-pUGhH0my1Pr",
    "outputId": "9a207dc6-6bc2-4663-f0e2-6cd35f6f7a54"
   },
   "outputs": [
    {
     "name": "stdout",
     "output_type": "stream",
     "text": [
      "Product 1: CCNC(C)=O\n"
     ]
    }
   ],
   "source": [
    "from rdkit import Chem\n",
    "from rdkit.Chem import AllChem\n",
    "\n",
    "# Define an amide formation reaction: acid chloride + amine → amide\n",
    "rxn = AllChem.ReactionFromSmarts('[C:1](=[O:2])Cl.[N:3]>>[C:1](=[O:2])[N:3]')\n",
    "\n",
    "# Example reactants\n",
    "reactant1 = Chem.MolFromSmiles(\"CC(=O)Cl\")   # acetyl chloride\n",
    "reactant2 = Chem.MolFromSmiles(\"NCC\")        # ethylamine\n",
    "\n",
    "# Run the reaction\n",
    "products = rxn.RunReactants((reactant1, reactant2))\n",
    "\n",
    "# Print product SMILES\n",
    "for i, prod_set in enumerate(products):\n",
    "    prod = prod_set[0]  # each result is a tuple of products (we have one main product here)\n",
    "    print(f\"Product {i+1}: {Chem.MolToSmiles(prod)}\")\n"
   ]
  },
  {
   "cell_type": "markdown",
   "metadata": {
    "id": "68deEk8rzH23"
   },
   "source": [
    "The real power of RDKit reactions comes when working with sets of reactants.  \n",
    "For example, if you have a list of acid chlorides and a list of amines, you can enumerate all possible amides by combining each acid chloride with each amine. Using nested loops and `rxn.RunReactants`, RDKit will generate the products for each combination.  \n",
    "\n",
    "For simple reactions like this, you usually get one main product, though some reactions may yield multiple products or stereoisomers.  "
   ]
  },
  {
   "cell_type": "code",
   "execution_count": null,
   "metadata": {
    "colab": {
     "base_uri": "https://localhost:8080/"
    },
    "id": "lSI7IVKBzFLn",
    "outputId": "cb581801-eb76-4def-d75e-8e9ea486d1ba"
   },
   "outputs": [
    {
     "name": "stdout",
     "output_type": "stream",
     "text": [
      "CC(=O)Cl + CCN -> CCNC(C)=O\n",
      "CC(=O)Cl + Nc1ccccc1 -> CC(=O)Nc1ccccc1\n",
      "O=C(Cl)c1ccccc1 + CCN -> CCNC(=O)c1ccccc1\n",
      "O=C(Cl)c1ccccc1 + Nc1ccccc1 -> O=C(Nc1ccccc1)c1ccccc1\n"
     ]
    }
   ],
   "source": [
    "from rdkit import Chem\n",
    "from rdkit.Chem import AllChem\n",
    "\n",
    "# Define amide formation reaction: acid chloride + amine → amide\n",
    "rxn = AllChem.ReactionFromSmarts('[C:1](=[O:2])Cl.[N:3]>>[C:1](=[O:2])[N:3]')\n",
    "\n",
    "# Acid chlorides: acetic chloride and benzoyl chloride\n",
    "acid_chlorides = [Chem.MolFromSmiles(s) for s in [\"CC(=O)Cl\", \"O=C(Cl)c1ccccc1\"]]\n",
    "\n",
    "# Amines: ethylamine and aniline\n",
    "amines = [Chem.MolFromSmiles(s) for s in [\"NCC\", \"Nc1ccccc1\"]]\n",
    "\n",
    "# Run reactions\n",
    "for acid in acid_chlorides:\n",
    "    for amine in amines:\n",
    "        prods = rxn.RunReactants((acid, amine))\n",
    "        for prod_set in prods:\n",
    "            prod_smiles = Chem.MolToSmiles(prod_set[0])\n",
    "            print(f\"{Chem.MolToSmiles(acid)} + {Chem.MolToSmiles(amine)} -> {prod_smiles}\")\n"
   ]
  },
  {
   "cell_type": "markdown",
   "metadata": {
    "id": "54ya9XNgzRov"
   },
   "source": [
    "### 3.3.3 Visualization Workflows\n",
    "The final part of our hands-on practice is visualization. RDKit can generate **2D images** of molecules directly in Jupyter, computing coordinates and rendering atoms and bonds.  \n",
    "\n",
    "- `Draw.MolToImage(mol, size=(w,h))` → returns a PIL image (can be shown in a notebook or saved, e.g., `img.save(\"mol.png\")`).  \n",
    "- `Draw.MolsToGridImage([mol1, mol2, ...], molsPerRow=4, subImgSize=(200,200), legends=[...])` → creates a grid of molecules, useful for comparisons.  \n",
    "\n",
    "For **publication-quality figures**, RDKit’s `MolDraw2D` can export to SVG (scalable vector graphics). For most quick tasks, PNG via `MolToImage` is sufficient.  "
   ]
  },
  {
   "cell_type": "code",
   "execution_count": null,
   "metadata": {
    "colab": {
     "base_uri": "https://localhost:8080/",
     "height": 167
    },
    "id": "Eofxe3P-zLZ4",
    "outputId": "2e52083b-556b-4125-8286-455fe8d8ecd4"
   },
   "outputs": [
    {
     "data": {
      "image/png": "[encoded data removed]",
      "text/plain": [
       "<IPython.core.display.Image object>"
      ]
     },
     "metadata": {},
     "output_type": "display_data"
    }
   ],
   "source": [
    "from rdkit import Chem\n",
    "from rdkit.Chem import Draw\n",
    "from IPython.display import Image, display\n",
    "\n",
    "# Single molecule: pyridine\n",
    "mol = Chem.MolFromSmiles(\"c1ccncc1\")\n",
    "img = Draw.MolToImage(mol, size=(150, 150))\n",
    "img.save(\"pyridine.png\")  # Save to file\n",
    "display(Image(filename=\"pyridine.png\"))  # Show inline\n",
    "\n",
    "# Multiple molecules in a grid\n",
    "smiles_list = [\"CCO\", \"c1ccccc1\", \"CCN(CC)CC\", \"C1=CC=CC=C1C(O)=O\"]  # ethanol, benzene, triethylamine, benzoic acid\n",
    "mols = [Chem.MolFromSmiles(s) for s in smiles_list]\n",
    "\n",
    "img2 = Draw.MolsToGridImage(\n",
    "    mols,\n",
    "    molsPerRow=2,\n",
    "    subImgSize=(150, 150),\n",
    "    legends=[\"Ethanol\", \"Benzene\", \"Triethylamine\", \"Benzoic acid\"]\n",
    ")\n"
   ]
  },
  {
   "cell_type": "markdown",
   "metadata": {
    "id": "NMejCYOEz0we"
   },
   "source": [
    "While 2D diagrams show connectivity, 3D visualization reveals molecular shape and conformation—important for sterics, binding, and interactions. RDKit can generate 3D coordinates (via embedding and force fields), but it lacks a built-in 3D viewer. Typically, structures can be exported (MOL2, PDB) and viewed in external tools like PyMOL or Chimera.  \n",
    "\n",
    "Within notebooks, a common solution is **py3Dmol**, which brings the 3Dmol.js WebGL viewer into Python for interactive molecular visualization.  "
   ]
  },
  {
   "cell_type": "code",
   "execution_count": null,
   "metadata": {
    "colab": {
     "base_uri": "https://localhost:8080/",
     "height": 352
    },
    "id": "2n9eeqqbzU57",
    "outputId": "06ad05e9-6495-45cd-dbcd-3d0ed9087860"
   },
   "outputs": [
    {
     "name": "stderr",
     "output_type": "stream",
     "text": [
      "[06:32:26] Molecule does not have explicit Hs. Consider calling AddHs()\n",
      "[06:32:26] Molecule does not have explicit Hs. Consider calling AddHs()\n"
     ]
    },
    {
     "data": {
      "application/3dmoljs_load.v0": "<div id=\"3dmolviewer_17591275469344091\"  style=\"position: relative; width: 300px; height: 300px;\">\n        <p id=\"3dmolwarning_17591275469344091\" style=\"background-color:#ffcccc;color:black\">3Dmol.js failed to load for some reason.  Please check your browser console for error messages.<br></p>\n        </div>\n<script>\n\nvar loadScriptAsync = function(uri){\n  return new Promise((resolve, reject) => {\n    //this is to ignore the existence of requirejs amd\n    var savedexports, savedmodule;\n    if (typeof exports !== 'undefined') savedexports = exports;\n    else exports = {}\n    if (typeof module !== 'undefined') savedmodule = module;\n    else module = {}\n\n    var tag = document.createElement('script');\n    tag.src = uri;\n    tag.async = true;\n    tag.onload = () => {\n        exports = savedexports;\n        module = savedmodule;\n        resolve();\n    };\n  var firstScriptTag = document.getElementsByTagName('script')[0];\n  firstScriptTag.parentNode.insertBefore(tag, firstScriptTag);\n});\n};\n\nif(typeof $3Dmolpromise === 'undefined') {\n$3Dmolpromise = null;\n  $3Dmolpromise = loadScriptAsync('https://cdn.jsdelivr.net/npm/3dmol@2.5.3/build/3Dmol-min.js');\n}\n\nvar viewer_17591275469344091 = null;\nvar warn = document.getElementById(\"3dmolwarning_17591275469344091\");\nif(warn) {\n    warn.parentNode.removeChild(warn);\n}\n$3Dmolpromise.then(function() {\nviewer_17591275469344091 = $3Dmol.createViewer(document.getElementById(\"3dmolviewer_17591275469344091\"),{backgroundColor:\"white\"});\nviewer_17591275469344091.zoomTo();\n\tviewer_17591275469344091.addModel(\"\\n     RDKit          3D\\n\\n  6  5  0  0  0  0  0  0  0  0999 V2000\\n    1.7585   -0.2803   -0.8025 C   0  0  0  0  0  0  0  0  0  0  0  0\\n    0.7136   -0.3624    0.2838 C   0  0  0  0  0  0  0  0  0  0  0  0\\n    0.8912    0.7397    1.1589 O   0  0  0  0  0  0  0  0  0  0  0  0\\n   -0.6908   -0.4012   -0.2879 C   0  0  0  0  0  0  0  0  0  0  0  0\\n   -0.9341    0.6976   -1.1512 O   0  0  0  0  0  0  0  0  0  0  0  0\\n   -1.7384   -0.3934    0.7988 C   0  0  0  0  0  0  0  0  0  0  0  0\\n  1  2  1  0\\n  2  3  1  0\\n  2  4  1  0\\n  4  5  1  0\\n  4  6  1  0\\nM  END\\n\",\"mol\");\n\tviewer_17591275469344091.setStyle({\"stick\": {}});\n\tviewer_17591275469344091.zoomTo();\nviewer_17591275469344091.render();\n});\n</script>",
      "text/html": [
       "<div id=\"3dmolviewer_17591275469344091\"  style=\"position: relative; width: 300px; height: 300px;\">\n",
       "        <p id=\"3dmolwarning_17591275469344091\" style=\"background-color:#ffcccc;color:black\">3Dmol.js failed to load for some reason.  Please check your browser console for error messages.<br></p>\n",
       "        </div>\n",
       "<script>\n",
       "\n",
       "var loadScriptAsync = function(uri){\n",
       "  return new Promise((resolve, reject) => {\n",
       "    //this is to ignore the existence of requirejs amd\n",
       "    var savedexports, savedmodule;\n",
       "    if (typeof exports !== 'undefined') savedexports = exports;\n",
       "    else exports = {}\n",
       "    if (typeof module !== 'undefined') savedmodule = module;\n",
       "    else module = {}\n",
       "\n",
       "    var tag = document.createElement('script');\n",
       "    tag.src = uri;\n",
       "    tag.async = true;\n",
       "    tag.onload = () => {\n",
       "        exports = savedexports;\n",
       "        module = savedmodule;\n",
       "        resolve();\n",
       "    };\n",
       "  var firstScriptTag = document.getElementsByTagName('script')[0];\n",
       "  firstScriptTag.parentNode.insertBefore(tag, firstScriptTag);\n",
       "});\n",
       "};\n",
       "\n",
       "if(typeof $3Dmolpromise === 'undefined') {\n",
       "$3Dmolpromise = null;\n",
       "  $3Dmolpromise = loadScriptAsync('https://cdn.jsdelivr.net/npm/3dmol@2.5.3/build/3Dmol-min.js');\n",
       "}\n",
       "\n",
       "var viewer_17591275469344091 = null;\n",
       "var warn = document.getElementById(\"3dmolwarning_17591275469344091\");\n",
       "if(warn) {\n",
       "    warn.parentNode.removeChild(warn);\n",
       "}\n",
       "$3Dmolpromise.then(function() {\n",
       "viewer_17591275469344091 = $3Dmol.createViewer(document.getElementById(\"3dmolviewer_17591275469344091\"),{backgroundColor:\"white\"});\n",
       "viewer_17591275469344091.zoomTo();\n",
       "\tviewer_17591275469344091.addModel(\"\\n     RDKit          3D\\n\\n  6  5  0  0  0  0  0  0  0  0999 V2000\\n    1.7585   -0.2803   -0.8025 C   0  0  0  0  0  0  0  0  0  0  0  0\\n    0.7136   -0.3624    0.2838 C   0  0  0  0  0  0  0  0  0  0  0  0\\n    0.8912    0.7397    1.1589 O   0  0  0  0  0  0  0  0  0  0  0  0\\n   -0.6908   -0.4012   -0.2879 C   0  0  0  0  0  0  0  0  0  0  0  0\\n   -0.9341    0.6976   -1.1512 O   0  0  0  0  0  0  0  0  0  0  0  0\\n   -1.7384   -0.3934    0.7988 C   0  0  0  0  0  0  0  0  0  0  0  0\\n  1  2  1  0\\n  2  3  1  0\\n  2  4  1  0\\n  4  5  1  0\\n  4  6  1  0\\nM  END\\n\",\"mol\");\n",
       "\tviewer_17591275469344091.setStyle({\"stick\": {}});\n",
       "\tviewer_17591275469344091.zoomTo();\n",
       "viewer_17591275469344091.render();\n",
       "});\n",
       "</script>"
      ]
     },
     "metadata": {},
     "output_type": "display_data"
    }
   ],
   "source": [
    "from rdkit import Chem\n",
    "from rdkit.Chem import AllChem\n",
    "import py3Dmol\n",
    "\n",
    "# Example molecule: 2,3-butanediol\n",
    "mol = Chem.MolFromSmiles(\"CC(O)C(O)C\")\n",
    "\n",
    "# Generate 3D coordinates\n",
    "AllChem.EmbedMolecule(mol)\n",
    "AllChem.MMFFOptimizeMolecule(mol)\n",
    "\n",
    "# Convert to MOL block with 3D coordinates\n",
    "mb = Chem.MolToMolBlock(mol)\n",
    "\n",
    "# Create 3D viewer\n",
    "view = py3Dmol.view(width=300, height=300)\n",
    "view.addModel(mb, \"mol\")   # add model in MOL format\n",
    "view.setStyle({\"stick\": {}})  # render as sticks\n",
    "view.zoomTo()              # fit view\n",
    "view.show()\n"
   ]
  }
 ],
 "metadata": {
  "colab": {
   "provenance": []
  },
  "kernelspec": {
   "display_name": "Python 3",
   "name": "python3"
  },
  "language_info": {
   "codemirror_mode": {
    "name": "ipython",
    "version": 3
   },
   "file_extension": ".py",
   "mimetype": "text/x-python",
   "name": "python",
   "nbconvert_exporter": "python",
   "pygments_lexer": "ipython3",
   "version": "3.11.4"
  }
 },
 "nbformat": 4,
 "nbformat_minor": 0
}