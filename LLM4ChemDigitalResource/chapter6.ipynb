{
  "nbformat": 4,
  "nbformat_minor": 0,
  "metadata": {
    "colab": {
      "provenance": []
    },
    "kernelspec": {
      "name": "python3",
      "display_name": "Python 3"
    },
    "language_info": {
      "name": "python"
    }
  },
  "cells": [
    {
      "cell_type": "markdown",
      "source": [
        "## **Chapter 6 – Generative Models for Molecule and Materials Design**\n",
        "\n",
        "\n",
        "\n",
        "Generative artificial intelligence is empowering chemists to go beyond analyzing existing data and start creating new molecules and materials. In this chapter, we introduce the fundamentals of generative models and their significance in chemical discovery. We discuss how large language models can be leveraged to generate novel molecular structures, and we examine modern workflows that integrate LLMs with specialized chemistry models. Key topics include how generative models are trained and used, strategies for validating and filtering the new molecules they propose, and methods for steering generation toward desired properties. By the end, the reader will understand how LLM-driven generative models can suggest creative solutions in molecule design, what challenges arise such as ensuring chemical validity and synthesizability, and how property optimization is achieved through iterative feedback."
      ],
      "metadata": {
        "id": "Oit8N07b_eTm"
      }
    },
    {
      "cell_type": "markdown",
      "source": [
        "### 6.3 Property Prediction and Optimization\n",
        "Regardless of the method, a key component of generative design is having a **property predictor** in the loop. This predictor could be:  \n",
        "\n",
        "- A simple calculator (e.g., computing logP or molecular weight)  \n",
        "- A machine learning model (e.g., predicting activity or an experimental property)  \n",
        "- A physics-based model (e.g., quantum chemistry for excitation energy)  \n",
        "\n",
        "The trade-off is accuracy vs. speed: ML predictors are fast but approximate, while physics-based methods are slower but more precise. A common strategy is to use ML predictors for **guiding generation** and then validate top candidates with more accurate methods.  \n",
        "\n",
        "To illustrate, here’s a toy **iterative optimization** example: we try to maximize a molecule’s QED score (a proxy for drug-likeness) using hill-climbing—start from a molecule, make random modifications, and accept changes if the QED improves.  \n"
      ],
      "metadata": {
        "id": "8k7OKPdHhunH"
      }
    },
    {
      "cell_type": "code",
      "source": [
        "import random\n",
        "from rdkit import Chem\n",
        "from rdkit.Chem import QED\n",
        "\n",
        "# Start from ethane\n",
        "best_smiles = \"CC\"\n",
        "best_score = QED.qed(Chem.MolFromSmiles(best_smiles))\n",
        "\n",
        "# Run 5 mutation steps\n",
        "for step in range(5):\n",
        "    # Propose a mutation: randomly add one atom (C, N, or O) to the SMILES string\n",
        "    new_smiles = best_smiles + random.choice([\"C\", \"N\", \"O\"])\n",
        "    mol = Chem.MolFromSmiles(new_smiles)\n",
        "\n",
        "    if mol:  # only consider valid molecules\n",
        "        score = QED.qed(mol)\n",
        "        if score > best_score:\n",
        "            best_smiles, best_score = new_smiles, score\n",
        "\n",
        "    print(f\"Step {step}: new best = {best_smiles} (QED = {best_score:.2f})\")\n"
      ],
      "metadata": {
        "colab": {
          "base_uri": "https://localhost:8080/"
        },
        "id": "qjb7gqT6_enM",
        "outputId": "8d634aba-9abd-4e52-96fe-46f4474d81c6"
      },
      "execution_count": null,
      "outputs": [
        {
          "output_type": "stream",
          "name": "stdout",
          "text": [
            "Step 0: new best = CCN (QED = 0.41)\n",
            "Step 1: new best = CCNO (QED = 0.42)\n",
            "Step 2: new best = CCNON (QED = 0.43)\n",
            "Step 3: new best = CCNON (QED = 0.43)\n",
            "Step 4: new best = CCNON (QED = 0.43)\n"
          ]
        }
      ]
    },
    {
      "cell_type": "code",
      "source": [],
      "metadata": {
        "id": "tpwVn6ZE_gh4"
      },
      "execution_count": null,
      "outputs": []
    }
  ]
}